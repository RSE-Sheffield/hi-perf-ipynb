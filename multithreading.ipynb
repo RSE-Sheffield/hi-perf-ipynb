{
 "cells": [
  {
   "cell_type": "markdown",
   "metadata": {},
   "source": [
    "# Using multiple threads to parallelise linear algebra operations"
   ]
  },
  {
   "cell_type": "markdown",
   "metadata": {},
   "source": [
    "*Parallelising workflows and code can be hard.  However, there are easy wins to be found in using Python code to interact with mature, multi-threaded compiled software libraries that can make good use of the multiple CPU cores in modern machines.*"
   ]
  },
  {
   "cell_type": "markdown",
   "metadata": {},
   "source": [
    "## Learning outcomes\n",
    "\n",
    "* Can parallelise linear algebra and fast Fourier transform operations using python packages and multithreaded compiled software libraries.  \n",
    "* Can control the degree of parallelisation.\n",
    "* Able to explain some of the issues that might impact on how the runtimes of multi-threaded functions scale with the number of available CPU cores\n",
    "* Can explain why hyperthreading is problematic for parallel numerical computations."
   ]
  },
  {
   "cell_type": "markdown",
   "metadata": {},
   "source": [
    "## Setup if using JupyterHub on ShARC\n",
    "\n",
    "Pre-requisites if you want to run through this lesson using the [JupyterHub service on the University of Sheffield's ShARC cluster][sharc-jh]. \n",
    "\n",
    "1.  [Connect][sharc-jh-conn-res-req-start] to JupyterHub on ShARC\n",
    "1.  Request computational resources (CPUs, RAM etc) for a [new Jupyter session  on ShARC][sharc-jh-conn-res-req-start].  \n",
    "    * **Project**: leave as the default unless you are participating in a workshop and your instructor tells you differently.\n",
    "    * **Job Queue**: leave as `any` unless you are participating in a workshop and your instructor tells you differently.\n",
    "    * **CPU cores**: `4`\n",
    "    * **Parallel Environment**: `smp` (you want all requested CPU cores to be allocated on one node)\n",
    "    * **RAM per CPU core**: `1` (GB)\n",
    "    * **GPUS per CPU core**: 0\n",
    "    * **Notebook session runtime**: currently fixed at four hours. \n",
    "1.  [Start][sharc-jh-conn-res-req-start] your Jupyter session\n",
    "1.  For this tutorial we want to create a [conda environment][sharc-jh-conda] containing the packages we are going to use in this tutorial.\n",
    "    1.  Open a [Jupyter Terminal][sharc-jh-term]\n",
    "    1.  Tell conda to download and install packages from a new package repository in addition to \n",
    "        the default package repository:\n",
    "\n",
    "        ```sh\n",
    "        conda config --append channels conda-forge\n",
    "        ```\n",
    "    \n",
    "    1.  Create a new conda environment containing the software packages (and package versions) listed in \n",
    "        the file `hi-perf-ipynb-multithreading-env.yml`\n",
    "\n",
    "        ```sh\n",
    "        conda create env -n hi-perf-ipynb-multithreading -f hi-perf-ipynb-multithreading-env.yml\n",
    "        ```\n",
    "        \n",
    "        NB you can open `hi-perf-ipynb-multithreading-env.yml` via the [Jupyter File Browser][sharc-jh-file-browse] to\n",
    "        see which packages we want installing.  \n",
    "        The key ones are: `python jupyter pyfftw mkl-service matplotlib scipy numpy py-cpuinfo`\n",
    "1. Ensure these tutorial Notebooks exist in your `/home` (`~`) (or `/data`) directory on ShARC (if that's not the case already).  Within a Jupyter Terminal:\n",
    "\n",
    "    ```sh\n",
    "    cd ~  \n",
    "    git clone https://github.com/RSE-Sheffield/hi-perf-ipynb/ \n",
    "    ```\n",
    "    \n",
    "1. You should then be able to see a `hi-perf-ipynb` subdirectory within your home directory in the Jupyter File Browser.  Click this Notebook to open it.\n",
    "\n",
    "1. Make sure your notebook is run in the correct conda environment:\n",
    "    * Click *Kernel* -> *Change Kernel*\n",
    "    * Select `Python [conda env:hi-perf-ipynb-multithreading]`\n",
    "\n",
    "[sharc-jh-conn-res-req-start]: http://docs.hpc.shef.ac.uk/en/latest/hpc/jupyterhub/conn_res_req_start.html\n",
    "[sharc-jh]: http://docs.hpc.shef.ac.uk/en/latest/hpc/jupyterhub.html#using-jupyter-on-sharc\n",
    "[sharc-jh-term]: http://docs.hpc.shef.ac.uk/en/latest/hpc/jupyterhub/terminal.html\n",
    "[sharc-jh-file-browse]: http://docs.hpc.shef.ac.uk/en/latest/hpc/jupyterhub/file_browse.html\n",
    "[sharc-jh-conda]: http://docs.hpc.shef.ac.uk/en/latest/hpc/jupyterhub/conda.html"
   ]
  },
  {
   "cell_type": "markdown",
   "metadata": {},
   "source": [
    "## Introduction"
   ]
  },
  {
   "cell_type": "markdown",
   "metadata": {},
   "source": [
    "Linear algebra is a cornerstone of not just engineering and machine learning but many fields in academia and insdustry. Linear algebra operations are so important in computing that decades of research has gone into:\n",
    "\n",
    "1. Finding the most efficient algorithms for solving them;\n",
    "2. Developing the most efficient software implementations of those algorithms (usually written in [C][c] or [Fortran][fortran]);\n",
    "3. Adding features to processors to help accelerate these operations (*more on this later in this Notebook on the section on *[single-instruction-multiple-data vectorisation and fused multiply-add](#Using-the-MKL-on-CPUs-that-can-accelerate-certain operations))\n",
    "\n",
    "For this reason **you need a *very* good reason to write your own linear algebra functions**.\n",
    "\n",
    "The standard way to do linear algebra in software is to use one of the several heavily optimised [software libraries][soft-lib] that implement\n",
    "these specifications:\n",
    "\n",
    "* [BLAS][blas] (*Basic Linear Algebra Subprograms*) - fundamental linear algebra functions;\n",
    "* [LAPACK][lapack] (*Linear Algebra Package*) - higher-level linear algebra functions that use BLAS functions.\n",
    "\n",
    "One of the most efficient BLAS/LAPACK implementations is provided by the Intel Math Kernel Library ([MKL][mkl]),\n",
    "which includes linear algebra functions that can make use of both \n",
    "\n",
    "* **shared-memory parallelism** (where multiple strands of parallel execution can read and write shared data in memory)\n",
    "* particular accelerating functionality built into certain Intel processors (see 3. above).\n",
    "\n",
    "<!-- TODO: shared-mem parallelism: reference theory section? --> \n",
    "\n",
    "The 'native' way to use the MKL is to write C or Fortran code but\n",
    "for Python programmers the simplest approach is to use a version of the [numpy][numpy] Python package built so\n",
    "it uses the MKL behind the scenes for linear algebra functionality\n",
    "(plus other functionality such as [fast Fourier transforms][fft]).\n",
    "\n",
    "Whether or not numpy comes with MKL support largely depends on how it was installed:\n",
    "\n",
    "* numpy installed using conda (e.g. with [Miniconda or Anaconda][mini-ana-conda]) has MKL support and installs the MKL as a dependency\n",
    "  (NB need to install from the default or Intel Python Distribution conda channel);\n",
    "* numpy installed using pip doesn't.\n",
    "\n",
    "## Multithreaded matrix multiplication using the MKL\n",
    "\n",
    "**Let's see if we can use numpy and the MKL to execute a matrix multiplication operation in parallel using more than one CPU core.**\n",
    "\n",
    "First, let's import some modules that we'll use later on this lesson.\n",
    "\n",
    "[blas]: https://en.wikipedia.org/wiki/Basic_Linear_Algebra_Subprograms\n",
    "[c]: https://en.wikipedia.org/wiki/C_(programming_language)\n",
    "[dot-prod]: https://en.wikipedia.org/wiki/Dot_product\n",
    "[fortran]: https://en.wikipedia.org/wiki/Fortran\n",
    "[lapack]: https://en.wikipedia.org/wiki/LAPACK\n",
    "[lin-alg]: https://en.wikipedia.org/wiki/Linear_algebra\n",
    "[matr-mult-par]: https://en.wikipedia.org/wiki/Matrix_multiplication_algorithm#Parallel_and_distributed_algorithms\n",
    "[matr-mult]: https://en.wikipedia.org/wiki/Matrix_multiplication\n",
    "[mkl]: https://software.intel.com/en-us/mkl\n",
    "[numpy]: http://www.numpy.org/\n",
    "[soft-lib]: https://en.wikipedia.org/wiki/Library_(computing)\n",
    "[svd]: https://en.wikipedia.org/wiki/Singular-value_decomposition\n",
    "[sys-lin-eq]: https://en.wikipedia.org/wiki/System_of_linear_equations\n",
    "[fft]: https://en.wikipedia.org/wiki/Fast_Fourier_transform\n",
    "[conda]: https://conda.io/\n",
    "[mini-ana-conda]: https://conda.io/docs/user-guide/install/download.html"
   ]
  },
  {
   "cell_type": "code",
   "execution_count": 1,
   "metadata": {},
   "outputs": [
    {
     "name": "stderr",
     "output_type": "stream",
     "text": [
      "/home/will/miniconda3/envs/hi-perf-ipynb-multithreading/lib/python3.6/site-packages/matplotlib/__init__.py:915: MatplotlibDeprecationWarning: nbagg.transparent is deprecated and ignored. Use figure.facecolor instead.\n",
      "  mplDeprecation)\n"
     ]
    }
   ],
   "source": [
    "import os\n",
    "import numpy as np\n",
    "import scipy.linalg\n",
    "import matplotlib.pyplot as plt\n",
    "import mkl  # provided by mkl-service conda package\n",
    "import pyfftw\n",
    "import cpuinfo  # provided by py-cpuinfo conda package\n",
    "from IPython.display import SVG, display\n",
    "\n",
    "plt.style.use('ggplot')\n",
    "%matplotlib inline"
   ]
  },
  {
   "cell_type": "markdown",
   "metadata": {},
   "source": [
    "Next, although we are confident that the installed numpy package has MKL support (as we installed it with conda), let's double check:"
   ]
  },
  {
   "cell_type": "code",
   "execution_count": 2,
   "metadata": {},
   "outputs": [
    {
     "name": "stdout",
     "output_type": "stream",
     "text": [
      "mkl_info:\n",
      "    libraries = ['mkl_rt', 'pthread']\n",
      "    library_dirs = ['/home/will/miniconda3/envs/hi-perf-ipynb-multithreading/lib']\n",
      "    define_macros = [('SCIPY_MKL_H', None), ('HAVE_CBLAS', None)]\n",
      "    include_dirs = ['/home/will/miniconda3/envs/hi-perf-ipynb-multithreading/include']\n",
      "blas_mkl_info:\n",
      "    libraries = ['mkl_rt', 'pthread']\n",
      "    library_dirs = ['/home/will/miniconda3/envs/hi-perf-ipynb-multithreading/lib']\n",
      "    define_macros = [('SCIPY_MKL_H', None), ('HAVE_CBLAS', None)]\n",
      "    include_dirs = ['/home/will/miniconda3/envs/hi-perf-ipynb-multithreading/include']\n",
      "blas_opt_info:\n",
      "    libraries = ['mkl_rt', 'pthread']\n",
      "    library_dirs = ['/home/will/miniconda3/envs/hi-perf-ipynb-multithreading/lib']\n",
      "    define_macros = [('SCIPY_MKL_H', None), ('HAVE_CBLAS', None)]\n",
      "    include_dirs = ['/home/will/miniconda3/envs/hi-perf-ipynb-multithreading/include']\n",
      "lapack_mkl_info:\n",
      "    libraries = ['mkl_rt', 'pthread']\n",
      "    library_dirs = ['/home/will/miniconda3/envs/hi-perf-ipynb-multithreading/lib']\n",
      "    define_macros = [('SCIPY_MKL_H', None), ('HAVE_CBLAS', None)]\n",
      "    include_dirs = ['/home/will/miniconda3/envs/hi-perf-ipynb-multithreading/include']\n",
      "lapack_opt_info:\n",
      "    libraries = ['mkl_rt', 'pthread']\n",
      "    library_dirs = ['/home/will/miniconda3/envs/hi-perf-ipynb-multithreading/lib']\n",
      "    define_macros = [('SCIPY_MKL_H', None), ('HAVE_CBLAS', None)]\n",
      "    include_dirs = ['/home/will/miniconda3/envs/hi-perf-ipynb-multithreading/include']\n"
     ]
    }
   ],
   "source": [
    "np.show_config()"
   ]
  },
  {
   "cell_type": "markdown",
   "metadata": {},
   "source": [
    "If `mkl_rt` is listed as a `library` under `blas_opt_info` and `lapack_opt_info` then the MKL is used for BLAS and LAPACK functionality.\n",
    "Alternatively, If you installed numpy using pip then other BLAS/LAPACK library/libraries may be listed instead (e.g. `openblas`).\n",
    "\n",
    "---\n",
    "\n",
    "Next, let's create two square matrices:"
   ]
  },
  {
   "cell_type": "code",
   "execution_count": 3,
   "metadata": {},
   "outputs": [
    {
     "data": {
      "text/plain": [
       "array([[0.47192361, 0.37850621, 0.05815986, 0.43741861, 0.84417102],\n",
       "       [0.46009659, 0.93383077, 0.31343623, 0.68523247, 0.53618926],\n",
       "       [0.49528061, 0.6871843 , 0.03186265, 0.71080742, 0.99321747],\n",
       "       [0.39605509, 0.93234873, 0.17334058, 0.21694211, 0.87127724],\n",
       "       [0.73984911, 0.26154939, 0.16733971, 0.04172694, 0.4521433 ]])"
      ]
     },
     "execution_count": 3,
     "metadata": {},
     "output_type": "execute_result"
    }
   ],
   "source": [
    "# NB a 5000x5000 element matrix of 64-bit double-precision floating point numbers requires ~190 MiB of RAM\n",
    "shape = (5000, 5000)\n",
    "x = np.random.random_sample(shape)\n",
    "y = np.random.random_sample(shape)\n",
    "x[:5, :5]"
   ]
  },
  {
   "cell_type": "markdown",
   "metadata": {},
   "source": [
    "We can then multiply these matrices using the new `@` operator (introduced in Python 3.5):"
   ]
  },
  {
   "cell_type": "code",
   "execution_count": 4,
   "metadata": {},
   "outputs": [
    {
     "data": {
      "text/plain": [
       "array([[1238.00968766, 1249.28751883, 1248.87287876, ..., 1242.94659554,\n",
       "        1258.05284143, 1260.24600704],\n",
       "       [1231.12974927, 1244.08350269, 1248.76900914, ..., 1227.45532711,\n",
       "        1254.0283571 , 1240.9726691 ],\n",
       "       [1252.38883313, 1251.67172948, 1257.38509513, ..., 1259.20571884,\n",
       "        1260.91305388, 1264.54236396],\n",
       "       ...,\n",
       "       [1252.58918784, 1262.21940566, 1263.84320465, ..., 1241.85742926,\n",
       "        1247.60268812, 1259.795589  ],\n",
       "       [1257.80017735, 1249.06697691, 1259.16236551, ..., 1253.93778725,\n",
       "        1264.09762812, 1259.37740882],\n",
       "       [1251.92375817, 1268.36606207, 1264.03616478, ..., 1260.13150353,\n",
       "        1263.8233694 , 1273.47683657]])"
      ]
     },
     "execution_count": 4,
     "metadata": {},
     "output_type": "execute_result"
    }
   ],
   "source": [
    "x @ y"
   ]
  },
  {
   "cell_type": "markdown",
   "metadata": {},
   "source": [
    "Note that we haven't told numpy/MKL *how* to execute the matrix multiplication.\n",
    "By default the MKL intelligently and silently detects:\n",
    "\n",
    "* how many CPU cores are available in the machine;\n",
    "* how many threads (parallel strands of execution) it could *efficiently* use for executing operation(s) in parallel (where #threads <= #cores to ensure all threads can run at once); \n",
    "* whether the CPU(s) in the machine have features that optionally can be used to accelerate the operation(s). "
   ]
  },
  {
   "cell_type": "markdown",
   "metadata": {},
   "source": [
    "Let's look at what happens to the runtime of the matrix multiplication if we explicitly restrict the number of threads the MKL can create/use to 1, 2, 3 then 4 threads:"
   ]
  },
  {
   "cell_type": "code",
   "execution_count": 5,
   "metadata": {},
   "outputs": [],
   "source": [
    "def sq_matr_mult_timings(side_length, thread_cnts, plot_results=False):\n",
    "    shape = (side_length, side_length)\n",
    "    x = np.random.random_sample(shape)\n",
    "    y = np.random.random_sample(shape)\n",
    "\n",
    "    timings_mean = []\n",
    "    timings_stdev = []\n",
    "    for i in thread_cnts:\n",
    "        mkl.set_num_threads(i)\n",
    "        print(\"Thread count: {}\".format(i), end=\" -> \")\n",
    "        \n",
    "        timings = %timeit -o x @ y\n",
    "        \n",
    "        timings_mean.append(timings.average)\n",
    "        timings_stdev.append(timings.stdev)\n",
    "    \n",
    "    if plot_results:\n",
    "        fig, ax = plt.subplots()\n",
    "        ax.errorbar(thread_cnts, timings_mean, yerr=timings_stdev, fmt='x')\n",
    "        ax.set_xticks(thread_cnts)\n",
    "        ax.set_xticklabels(thread_cnts)\n",
    "        ax.set_xlabel('# cores')\n",
    "        ax.set_ylabel('Runtime [ms]');\n",
    "        ax.set_ylim(ymin=0);\n",
    "        \n",
    "    return (timings_mean, timings_stdev)"
   ]
  },
  {
   "cell_type": "markdown",
   "metadata": {},
   "source": [
    "Here we use the [timeit](http://ipython.readthedocs.io/en/stable/interactive/magics.html#magic-time) IPython 'magic' function to execute a Python statement multiple times, take the mean and standard deviation of those executions and plot timings.  Here are the results:"
   ]
  },
  {
   "cell_type": "code",
   "execution_count": 6,
   "metadata": {},
   "outputs": [
    {
     "name": "stdout",
     "output_type": "stream",
     "text": [
      "Thread count: 1 -> 5.58 s ± 93.6 ms per loop (mean ± std. dev. of 7 runs, 1 loop each)\n",
      "Thread count: 2 -> 2.99 s ± 11.7 ms per loop (mean ± std. dev. of 7 runs, 1 loop each)\n",
      "Thread count: 3 -> 2.32 s ± 235 ms per loop (mean ± std. dev. of 7 runs, 1 loop each)\n",
      "Thread count: 4 -> 2.27 s ± 403 ms per loop (mean ± std. dev. of 7 runs, 1 loop each)\n"
     ]
    },
    {
     "data": {
      "image/png": "[encoded data removed]",
      "text/plain": [
       "<Figure size 432x288 with 1 Axes>"
      ]
     },
     "metadata": {},
     "output_type": "display_data"
    }
   ],
   "source": [
    "(timings_mean, timings_stdev) = sq_matr_mult_timings(5000, range(1, 5), plot_results=True)"
   ]
  },
  {
   "cell_type": "markdown",
   "metadata": {},
   "source": [
    "As you can see, the runtime did not decrease linearly with the number of available cores but there are definitely benefits from using more than one CPU core.\n",
    "\n",
    "Let's try that again but this time with a *much* smaller problem size."
   ]
  },
  {
   "cell_type": "code",
   "execution_count": 7,
   "metadata": {},
   "outputs": [
    {
     "name": "stdout",
     "output_type": "stream",
     "text": [
      "Thread count: 1 -> 8.52 µs ± 135 ns per loop (mean ± std. dev. of 7 runs, 100000 loops each)\n",
      "Thread count: 2 -> 7.33 µs ± 90.2 ns per loop (mean ± std. dev. of 7 runs, 100000 loops each)\n",
      "Thread count: 3 -> 6.73 µs ± 188 ns per loop (mean ± std. dev. of 7 runs, 100000 loops each)\n",
      "Thread count: 4 -> 7.47 µs ± 3.18 µs per loop (mean ± std. dev. of 7 runs, 100000 loops each)\n"
     ]
    },
    {
     "data": {
      "image/png": "[encoded data removed]",
      "text/plain": [
       "<Figure size 432x288 with 1 Axes>"
      ]
     },
     "metadata": {},
     "output_type": "display_data"
    }
   ],
   "source": [
    "(timings_mean, timings_stdev) = sq_matr_mult_timings(50, range(1, 5), plot_results=True)"
   ]
  },
  {
   "cell_type": "markdown",
   "metadata": {},
   "source": [
    "Here the scaling with CPU cores is much poorer.\n",
    "\n",
    "You'd like to hope that as you distribute work between more threads that there will be a linear decrease in execution time.  However, that's not always the case:\n",
    "\n",
    " - If there are more threads than cores then threads will have to take it in turns to run;\n",
    " - For a given matrix size: as the number of threads grows at some point the cost of setup, tear-down and inter-thread communication/synchronisation may become significant.  This is what is happening with the smaller problem size above.  As we increase the problem size above that of the first example we  than the first example then we should asymptotically converge on linear scaling.\n",
    " - It is useful to consider [Amdahl's Law](https://en.wikipedia.org/wiki/Amdahl%27s_law) when assessing how well a problem will scale with more parallelisation: this law broadly states that speedup of parallelising some code is a limited by the proportion that runs in series.  Assessing just how much code runs in series is difficult in this particular case as some code is in this Notebook, some is in the numpy package and some is in the MKL. In other situations it may be much easier for you to identify the sections of code that do (must?) execute in series and therefore limit the maximum speedup achievable by parallelisation:\n",
    " \n",
    "<img src=\"static/parallel_code_with_serial_sections.svg\" alt=\"Parallel code with serial sections\" height=\"300px\"\n",
    "    width=\"200px\" />"
   ]
  },
  {
   "cell_type": "markdown",
   "metadata": {},
   "source": [
    "## How many cores do we need? \n",
    "\n",
    "This isn't an easy question to answer and depends on the problem size and on the algorithm and code used to solve the problem.  On 'single-tenant' machines such as your own laptop it is therefore often best to just let the MKL decide on an appropriate number of threads.  This is what it does by default; we've only explicitly set the thread count here to demonstrate the effects of multithreading on performance.\n",
    "\n",
    "On 'multi-tenant' systems such as HPC clusters like ShARC one typically needs to request the number of cores required at the start of the job then within the job there may be hundreds or possibly millions of multi-threadable linear algebra operations (or other multi-threadable operations if using something other than the MKL behind the scenes).   How many cores should one request of the Distributed Resource Manager that controls the cluster when you first submit/start your job?  Well, if you think you might benefit from multithreading and are using a library that supports it then try running some short tests with what you believe are the worst-case problem sizes within your job and, as above, capturing execution times for different thread/core counts to see how your problem scales with CPU cores.    \n",
    "\n",
    "## Restricting the MKL to running on a subset of the available cores\n",
    "\n",
    "When might we want to do this?  Well, one reason might be that we are wanting to execute multiple strands of our workflow and each involves linear algebra operations.  For optimal performance we might therefore want to run\n",
    "\n",
    "* $n$ Python processes on $n$ cores, each of which \n",
    "* runs linear algebra functions using $1$ thread.\n",
    "\n",
    "If each of the $n$ processes used $1<m<=n$ threads for the linear algebra functions then then there would be contention between the $n \\cdot m$ threads for CPU time and we would not see any benefit to using multiple threads with the MKL. "
   ]
  },
  {
   "cell_type": "markdown",
   "metadata": {},
   "source": [
    "## A note on physical vs virtual processing cores (hyperthreading)"
   ]
  },
  {
   "cell_type": "markdown",
   "metadata": {},
   "source": [
    " Be aware that on the majority of modern Intel processors that each physical CPU core typically provides two *virtual cores* aka *hardware threads* using a technology called [Hyper-Threading](https://en.wikipedia.org/wiki/Hyper-threading). \n",
    " \n",
    " \n",
    "These virtual cores provide greater parallelism for workloads that are primarily IO (input/output) such as networking, running databases or interactive desktop/laptop usage.  However, you do not want to distribute floating-point calculations between both virtual cores of a physical core as the virtual cores share part of the physical core that handles floating-point calculations (the Floating Point Unit (FPU)).  Contention between virtual cores for the FPU can result in numerical workloads running slower with than if hyperthreading were disabled.  For this reason hyperthreading is disabled on all nodes in ShARC (bar a small number dedicated for CPU usage.  \n",
    "\n",
    "You can check to see if hyperthreading is enabled using a program called `lstopo`, which shows the internal architecture of a machine.  Here's graphical output from lstopo for a Dell XPS 9550 laptop.  This shows that each of the four physical cores is comprised of two virtual cores i.e. hyperthreading is enabled. \n",
    " \n",
    "<img src=\"static/dell-xps-9550-lstopo-cpu-ram.svg\" alt=\"Parallel code with serial sections\" width=\"30%\"/>\n",
    " \n",
    "Here's graphical output from lstopo for one of the (16-core) nodes in ShARC where hyperthreading is disabled.  \n",
    " \n",
    "<img src=\"static/sharc-node005-lstopo-cpu-ram.svg\" alt=\"Parallel code with serial sections\" width=\"60%\"/>\n",
    "\n",
    "Run the following cell to see the architecture of the machine running this Jupyter Notebook.  "
   ]
  },
  {
   "cell_type": "code",
   "execution_count": 8,
   "metadata": {},
   "outputs": [
    {
     "data": {
      "image/svg+xml": [
       "<svg height=\"410pt\" version=\"1.1\" viewBox=\"0 0 370 410\" width=\"370pt\" xmlns=\"http://www.w3.org/2000/svg\" xmlns:xlink=\"http://www.w3.org/1999/xlink\">\n",
       "<defs>\n",
       "<g>\n",
       "<symbol id=\"glyph0-0\" overflow=\"visible\">\n",
       "<path d=\"M 0.5 1.765625 L 0.5 -7.046875 L 5.5 -7.046875 L 5.5 1.765625 Z M 1.0625 1.21875 L 4.9375 1.21875 L 4.9375 -6.484375 L 1.0625 -6.484375 Z M 1.0625 1.21875 \" style=\"stroke:none;\"/>\n",
       "</symbol>\n",
       "<symbol id=\"glyph0-1\" overflow=\"visible\">\n",
       "<path d=\"M 0.984375 -7.296875 L 2.453125 -7.296875 L 4.3125 -2.328125 L 6.1875 -7.296875 L 7.65625 -7.296875 L 7.65625 0 L 6.6875 0 L 6.6875 -6.40625 L 4.8125 -1.40625 L 3.8125 -1.40625 L 1.9375 -6.40625 L 1.9375 0 L 0.984375 0 Z M 0.984375 -7.296875 \" style=\"stroke:none;\"/>\n",
       "</symbol>\n",
       "<symbol id=\"glyph0-2\" overflow=\"visible\">\n",
       "<path d=\"M 3.421875 -2.75 C 2.703125 -2.75 2.203125 -2.664062 1.921875 -2.5 C 1.640625 -2.332031 1.5 -2.050781 1.5 -1.65625 C 1.5 -1.332031 1.601562 -1.078125 1.8125 -0.890625 C 2.019531 -0.703125 2.304688 -0.609375 2.671875 -0.609375 C 3.171875 -0.609375 3.570312 -0.785156 3.875 -1.140625 C 4.175781 -1.492188 4.328125 -1.960938 4.328125 -2.546875 L 4.328125 -2.75 Z M 5.21875 -3.125 L 5.21875 0 L 4.328125 0 L 4.328125 -0.828125 C 4.117188 -0.492188 3.859375 -0.25 3.546875 -0.09375 C 3.242188 0.0625 2.875 0.140625 2.4375 0.140625 C 1.875 0.140625 1.425781 -0.015625 1.09375 -0.328125 C 0.757812 -0.640625 0.59375 -1.0625 0.59375 -1.59375 C 0.59375 -2.207031 0.800781 -2.671875 1.21875 -2.984375 C 1.632812 -3.296875 2.25 -3.453125 3.0625 -3.453125 L 4.328125 -3.453125 L 4.328125 -3.546875 C 4.328125 -3.953125 4.1875 -4.269531 3.90625 -4.5 C 3.632812 -4.726562 3.253906 -4.84375 2.765625 -4.84375 C 2.453125 -4.84375 2.144531 -4.800781 1.84375 -4.71875 C 1.550781 -4.644531 1.269531 -4.535156 1 -4.390625 L 1 -5.21875 C 1.332031 -5.34375 1.648438 -5.4375 1.953125 -5.5 C 2.265625 -5.5625 2.566406 -5.59375 2.859375 -5.59375 C 3.648438 -5.59375 4.238281 -5.390625 4.625 -4.984375 C 5.019531 -4.578125 5.21875 -3.957031 5.21875 -3.125 Z M 5.21875 -3.125 \" style=\"stroke:none;\"/>\n",
       "</symbol>\n",
       "<symbol id=\"glyph0-3\" overflow=\"visible\">\n",
       "<path d=\"M 4.875 -5.265625 L 4.875 -4.421875 C 4.625 -4.554688 4.367188 -4.660156 4.109375 -4.734375 C 3.859375 -4.804688 3.601562 -4.84375 3.34375 -4.84375 C 2.757812 -4.84375 2.304688 -4.65625 1.984375 -4.28125 C 1.660156 -3.914062 1.5 -3.398438 1.5 -2.734375 C 1.5 -2.066406 1.660156 -1.546875 1.984375 -1.171875 C 2.304688 -0.804688 2.757812 -0.625 3.34375 -0.625 C 3.601562 -0.625 3.859375 -0.65625 4.109375 -0.71875 C 4.367188 -0.789062 4.625 -0.898438 4.875 -1.046875 L 4.875 -0.203125 C 4.625 -0.0859375 4.363281 -0.00390625 4.09375 0.046875 C 3.832031 0.109375 3.550781 0.140625 3.25 0.140625 C 2.414062 0.140625 1.753906 -0.113281 1.265625 -0.625 C 0.785156 -1.144531 0.546875 -1.847656 0.546875 -2.734375 C 0.546875 -3.617188 0.789062 -4.316406 1.28125 -4.828125 C 1.769531 -5.335938 2.441406 -5.59375 3.296875 -5.59375 C 3.578125 -5.59375 3.847656 -5.566406 4.109375 -5.515625 C 4.367188 -5.460938 4.625 -5.378906 4.875 -5.265625 Z M 4.875 -5.265625 \" style=\"stroke:none;\"/>\n",
       "</symbol>\n",
       "<symbol id=\"glyph0-4\" overflow=\"visible\">\n",
       "<path d=\"M 5.484375 -3.296875 L 5.484375 0 L 4.59375 0 L 4.59375 -3.265625 C 4.59375 -3.785156 4.488281 -4.171875 4.28125 -4.421875 C 4.082031 -4.679688 3.78125 -4.8125 3.375 -4.8125 C 2.894531 -4.8125 2.515625 -4.65625 2.234375 -4.34375 C 1.953125 -4.039062 1.8125 -3.625 1.8125 -3.09375 L 1.8125 0 L 0.90625 0 L 0.90625 -7.59375 L 1.8125 -7.59375 L 1.8125 -4.625 C 2.03125 -4.945312 2.285156 -5.1875 2.578125 -5.34375 C 2.867188 -5.507812 3.203125 -5.59375 3.578125 -5.59375 C 4.203125 -5.59375 4.675781 -5.398438 5 -5.015625 C 5.320312 -4.628906 5.484375 -4.054688 5.484375 -3.296875 Z M 5.484375 -3.296875 \" style=\"stroke:none;\"/>\n",
       "</symbol>\n",
       "<symbol id=\"glyph0-5\" overflow=\"visible\">\n",
       "<path d=\"M 0.9375 -5.46875 L 1.84375 -5.46875 L 1.84375 0 L 0.9375 0 Z M 0.9375 -7.59375 L 1.84375 -7.59375 L 1.84375 -6.453125 L 0.9375 -6.453125 Z M 0.9375 -7.59375 \" style=\"stroke:none;\"/>\n",
       "</symbol>\n",
       "<symbol id=\"glyph0-6\" overflow=\"visible\">\n",
       "<path d=\"M 5.484375 -3.296875 L 5.484375 0 L 4.59375 0 L 4.59375 -3.265625 C 4.59375 -3.785156 4.488281 -4.171875 4.28125 -4.421875 C 4.082031 -4.679688 3.78125 -4.8125 3.375 -4.8125 C 2.894531 -4.8125 2.515625 -4.65625 2.234375 -4.34375 C 1.953125 -4.039062 1.8125 -3.625 1.8125 -3.09375 L 1.8125 0 L 0.90625 0 L 0.90625 -5.46875 L 1.8125 -5.46875 L 1.8125 -4.625 C 2.03125 -4.945312 2.285156 -5.1875 2.578125 -5.34375 C 2.867188 -5.507812 3.203125 -5.59375 3.578125 -5.59375 C 4.203125 -5.59375 4.675781 -5.398438 5 -5.015625 C 5.320312 -4.628906 5.484375 -4.054688 5.484375 -3.296875 Z M 5.484375 -3.296875 \" style=\"stroke:none;\"/>\n",
       "</symbol>\n",
       "<symbol id=\"glyph0-7\" overflow=\"visible\">\n",
       "<path d=\"M 5.625 -2.953125 L 5.625 -2.515625 L 1.484375 -2.515625 C 1.523438 -1.898438 1.710938 -1.429688 2.046875 -1.109375 C 2.378906 -0.785156 2.84375 -0.625 3.4375 -0.625 C 3.78125 -0.625 4.113281 -0.664062 4.4375 -0.75 C 4.769531 -0.832031 5.09375 -0.957031 5.40625 -1.125 L 5.40625 -0.28125 C 5.082031 -0.144531 4.75 -0.0390625 4.40625 0.03125 C 4.070312 0.101562 3.734375 0.140625 3.390625 0.140625 C 2.515625 0.140625 1.820312 -0.109375 1.3125 -0.609375 C 0.800781 -1.117188 0.546875 -1.8125 0.546875 -2.6875 C 0.546875 -3.582031 0.785156 -4.289062 1.265625 -4.8125 C 1.753906 -5.332031 2.410156 -5.59375 3.234375 -5.59375 C 3.972656 -5.59375 4.554688 -5.359375 4.984375 -4.890625 C 5.410156 -4.421875 5.625 -3.773438 5.625 -2.953125 Z M 4.71875 -3.21875 C 4.71875 -3.707031 4.582031 -4.097656 4.3125 -4.390625 C 4.039062 -4.691406 3.6875 -4.84375 3.25 -4.84375 C 2.738281 -4.84375 2.332031 -4.695312 2.03125 -4.40625 C 1.738281 -4.125 1.566406 -3.726562 1.515625 -3.21875 Z M 4.71875 -3.21875 \" style=\"stroke:none;\"/>\n",
       "</symbol>\n",
       "<symbol id=\"glyph0-8\" overflow=\"visible\">\n",
       "<path d=\"\" style=\"stroke:none;\"/>\n",
       "</symbol>\n",
       "<symbol id=\"glyph0-9\" overflow=\"visible\">\n",
       "<path d=\"M 3.09375 -7.59375 C 2.664062 -6.84375 2.34375 -6.097656 2.125 -5.359375 C 1.914062 -4.628906 1.8125 -3.890625 1.8125 -3.140625 C 1.8125 -2.390625 1.914062 -1.644531 2.125 -0.90625 C 2.34375 -0.164062 2.664062 0.570312 3.09375 1.3125 L 2.3125 1.3125 C 1.832031 0.550781 1.46875 -0.195312 1.21875 -0.9375 C 0.976562 -1.675781 0.859375 -2.410156 0.859375 -3.140625 C 0.859375 -3.867188 0.976562 -4.597656 1.21875 -5.328125 C 1.457031 -6.066406 1.820312 -6.820312 2.3125 -7.59375 Z M 3.09375 -7.59375 \" style=\"stroke:none;\"/>\n",
       "</symbol>\n",
       "<symbol id=\"glyph0-10\" overflow=\"visible\">\n",
       "<path d=\"M 4.0625 -3.9375 C 4.53125 -3.832031 4.894531 -3.617188 5.15625 -3.296875 C 5.425781 -2.984375 5.5625 -2.59375 5.5625 -2.125 C 5.5625 -1.40625 5.3125 -0.847656 4.8125 -0.453125 C 4.320312 -0.0546875 3.617188 0.140625 2.703125 0.140625 C 2.398438 0.140625 2.085938 0.109375 1.765625 0.046875 C 1.441406 -0.015625 1.109375 -0.101562 0.765625 -0.21875 L 0.765625 -1.171875 C 1.035156 -1.015625 1.332031 -0.894531 1.65625 -0.8125 C 1.988281 -0.726562 2.332031 -0.6875 2.6875 -0.6875 C 3.300781 -0.6875 3.769531 -0.804688 4.09375 -1.046875 C 4.414062 -1.296875 4.578125 -1.65625 4.578125 -2.125 C 4.578125 -2.550781 4.425781 -2.882812 4.125 -3.125 C 3.820312 -3.363281 3.40625 -3.484375 2.875 -3.484375 L 2.015625 -3.484375 L 2.015625 -4.296875 L 2.90625 -4.296875 C 3.394531 -4.296875 3.765625 -4.394531 4.015625 -4.59375 C 4.273438 -4.789062 4.40625 -5.070312 4.40625 -5.4375 C 4.40625 -5.800781 4.269531 -6.082031 4 -6.28125 C 3.738281 -6.488281 3.363281 -6.59375 2.875 -6.59375 C 2.601562 -6.59375 2.3125 -6.5625 2 -6.5 C 1.6875 -6.445312 1.347656 -6.359375 0.984375 -6.234375 L 0.984375 -7.109375 C 1.359375 -7.210938 1.707031 -7.289062 2.03125 -7.34375 C 2.363281 -7.394531 2.671875 -7.421875 2.953125 -7.421875 C 3.703125 -7.421875 4.296875 -7.25 4.734375 -6.90625 C 5.171875 -6.570312 5.390625 -6.113281 5.390625 -5.53125 C 5.390625 -5.125 5.273438 -4.78125 5.046875 -4.5 C 4.816406 -4.226562 4.488281 -4.039062 4.0625 -3.9375 Z M 4.0625 -3.9375 \" style=\"stroke:none;\"/>\n",
       "</symbol>\n",
       "<symbol id=\"glyph0-11\" overflow=\"visible\">\n",
       "<path d=\"M 1.234375 -0.828125 L 2.859375 -0.828125 L 2.859375 -6.390625 L 1.09375 -6.046875 L 1.09375 -6.9375 L 2.84375 -7.296875 L 3.828125 -7.296875 L 3.828125 -0.828125 L 5.4375 -0.828125 L 5.4375 0 L 1.234375 0 Z M 1.234375 -0.828125 \" style=\"stroke:none;\"/>\n",
       "</symbol>\n",
       "<symbol id=\"glyph0-12\" overflow=\"visible\">\n",
       "<path d=\"M 5.953125 -1.046875 L 5.953125 -3 L 4.34375 -3 L 4.34375 -3.8125 L 6.921875 -3.8125 L 6.921875 -0.671875 C 6.546875 -0.410156 6.128906 -0.207031 5.671875 -0.0625 C 5.210938 0.0703125 4.722656 0.140625 4.203125 0.140625 C 3.054688 0.140625 2.160156 -0.191406 1.515625 -0.859375 C 0.878906 -1.523438 0.5625 -2.453125 0.5625 -3.640625 C 0.5625 -4.828125 0.878906 -5.753906 1.515625 -6.421875 C 2.160156 -7.085938 3.054688 -7.421875 4.203125 -7.421875 C 4.671875 -7.421875 5.117188 -7.363281 5.546875 -7.25 C 5.984375 -7.132812 6.378906 -6.960938 6.734375 -6.734375 L 6.734375 -5.671875 C 6.367188 -5.984375 5.984375 -6.21875 5.578125 -6.375 C 5.171875 -6.53125 4.738281 -6.609375 4.28125 -6.609375 C 3.382812 -6.609375 2.710938 -6.359375 2.265625 -5.859375 C 1.828125 -5.367188 1.609375 -4.628906 1.609375 -3.640625 C 1.609375 -2.648438 1.828125 -1.90625 2.265625 -1.40625 C 2.710938 -0.914062 3.382812 -0.671875 4.28125 -0.671875 C 4.632812 -0.671875 4.945312 -0.695312 5.21875 -0.75 C 5.488281 -0.8125 5.734375 -0.910156 5.953125 -1.046875 Z M 5.953125 -1.046875 \" style=\"stroke:none;\"/>\n",
       "</symbol>\n",
       "<symbol id=\"glyph0-13\" overflow=\"visible\">\n",
       "<path d=\"M 1.96875 -3.484375 L 1.96875 -0.8125 L 3.546875 -0.8125 C 4.078125 -0.8125 4.46875 -0.921875 4.71875 -1.140625 C 4.976562 -1.359375 5.109375 -1.695312 5.109375 -2.15625 C 5.109375 -2.601562 4.976562 -2.9375 4.71875 -3.15625 C 4.46875 -3.375 4.078125 -3.484375 3.546875 -3.484375 Z M 1.96875 -6.484375 L 1.96875 -4.28125 L 3.421875 -4.28125 C 3.910156 -4.28125 4.269531 -4.367188 4.5 -4.546875 C 4.738281 -4.734375 4.859375 -5.007812 4.859375 -5.375 C 4.859375 -5.75 4.738281 -6.023438 4.5 -6.203125 C 4.269531 -6.390625 3.910156 -6.484375 3.421875 -6.484375 Z M 0.984375 -7.296875 L 3.5 -7.296875 C 4.25 -7.296875 4.828125 -7.140625 5.234375 -6.828125 C 5.640625 -6.515625 5.84375 -6.066406 5.84375 -5.484375 C 5.84375 -5.035156 5.738281 -4.679688 5.53125 -4.421875 C 5.320312 -4.160156 5.019531 -4 4.625 -3.9375 C 5.101562 -3.832031 5.476562 -3.613281 5.75 -3.28125 C 6.019531 -2.945312 6.15625 -2.535156 6.15625 -2.046875 C 6.15625 -1.390625 5.929688 -0.882812 5.484375 -0.53125 C 5.046875 -0.175781 4.414062 0 3.59375 0 L 0.984375 0 Z M 0.984375 -7.296875 \" style=\"stroke:none;\"/>\n",
       "</symbol>\n",
       "<symbol id=\"glyph0-14\" overflow=\"visible\">\n",
       "<path d=\"M 0.796875 -7.59375 L 1.578125 -7.59375 C 2.066406 -6.820312 2.429688 -6.066406 2.671875 -5.328125 C 2.921875 -4.597656 3.046875 -3.867188 3.046875 -3.140625 C 3.046875 -2.410156 2.921875 -1.675781 2.671875 -0.9375 C 2.429688 -0.195312 2.066406 0.550781 1.578125 1.3125 L 0.796875 1.3125 C 1.234375 0.570312 1.554688 -0.164062 1.765625 -0.90625 C 1.984375 -1.644531 2.09375 -2.390625 2.09375 -3.140625 C 2.09375 -3.890625 1.984375 -4.628906 1.765625 -5.359375 C 1.554688 -6.097656 1.234375 -6.84375 0.796875 -7.59375 Z M 0.796875 -7.59375 \" style=\"stroke:none;\"/>\n",
       "</symbol>\n",
       "<symbol id=\"glyph0-15\" overflow=\"visible\">\n",
       "<path d=\"M 1.96875 -6.484375 L 1.96875 -3.734375 L 3.203125 -3.734375 C 3.660156 -3.734375 4.015625 -3.851562 4.265625 -4.09375 C 4.523438 -4.332031 4.65625 -4.671875 4.65625 -5.109375 C 4.65625 -5.546875 4.523438 -5.882812 4.265625 -6.125 C 4.015625 -6.363281 3.660156 -6.484375 3.203125 -6.484375 Z M 0.984375 -7.296875 L 3.203125 -7.296875 C 4.023438 -7.296875 4.644531 -7.109375 5.0625 -6.734375 C 5.476562 -6.367188 5.6875 -5.828125 5.6875 -5.109375 C 5.6875 -4.390625 5.476562 -3.847656 5.0625 -3.484375 C 4.644531 -3.117188 4.023438 -2.9375 3.203125 -2.9375 L 1.96875 -2.9375 L 1.96875 0 L 0.984375 0 Z M 0.984375 -7.296875 \" style=\"stroke:none;\"/>\n",
       "</symbol>\n",
       "<symbol id=\"glyph0-16\" overflow=\"visible\">\n",
       "<path d=\"M 0.90625 -7.59375 L 1.8125 -7.59375 L 1.8125 -3.109375 L 4.5 -5.46875 L 5.640625 -5.46875 L 2.734375 -2.90625 L 5.765625 0 L 4.59375 0 L 1.8125 -2.671875 L 1.8125 0 L 0.90625 0 Z M 0.90625 -7.59375 \" style=\"stroke:none;\"/>\n",
       "</symbol>\n",
       "<symbol id=\"glyph0-17\" overflow=\"visible\">\n",
       "<path d=\"M 4.546875 -2.796875 C 4.546875 -3.453125 4.410156 -3.957031 4.140625 -4.3125 C 3.867188 -4.664062 3.492188 -4.84375 3.015625 -4.84375 C 2.523438 -4.84375 2.144531 -4.664062 1.875 -4.3125 C 1.613281 -3.957031 1.484375 -3.453125 1.484375 -2.796875 C 1.484375 -2.148438 1.613281 -1.644531 1.875 -1.28125 C 2.144531 -0.925781 2.523438 -0.75 3.015625 -0.75 C 3.492188 -0.75 3.867188 -0.925781 4.140625 -1.28125 C 4.410156 -1.644531 4.546875 -2.148438 4.546875 -2.796875 Z M 5.4375 -0.671875 C 5.4375 0.253906 5.226562 0.941406 4.8125 1.390625 C 4.40625 1.847656 3.773438 2.078125 2.921875 2.078125 C 2.609375 2.078125 2.3125 2.050781 2.03125 2 C 1.75 1.957031 1.476562 1.890625 1.21875 1.796875 L 1.21875 0.921875 C 1.476562 1.066406 1.734375 1.171875 1.984375 1.234375 C 2.242188 1.304688 2.507812 1.34375 2.78125 1.34375 C 3.363281 1.34375 3.800781 1.1875 4.09375 0.875 C 4.394531 0.570312 4.546875 0.109375 4.546875 -0.515625 L 4.546875 -0.96875 C 4.359375 -0.644531 4.117188 -0.398438 3.828125 -0.234375 C 3.535156 -0.078125 3.1875 0 2.78125 0 C 2.113281 0 1.570312 -0.253906 1.15625 -0.765625 C 0.75 -1.273438 0.546875 -1.953125 0.546875 -2.796875 C 0.546875 -3.640625 0.75 -4.316406 1.15625 -4.828125 C 1.570312 -5.335938 2.113281 -5.59375 2.78125 -5.59375 C 3.1875 -5.59375 3.535156 -5.515625 3.828125 -5.359375 C 4.117188 -5.203125 4.359375 -4.960938 4.546875 -4.640625 L 4.546875 -5.46875 L 5.4375 -5.46875 Z M 5.4375 -0.671875 \" style=\"stroke:none;\"/>\n",
       "</symbol>\n",
       "<symbol id=\"glyph0-18\" overflow=\"visible\">\n",
       "<path d=\"M 5.109375 -4.40625 L 3.6875 -4.40625 L 3.28125 -2.765625 L 4.71875 -2.765625 Z M 4.375 -7.171875 L 3.875 -5.15625 L 5.296875 -5.15625 L 5.8125 -7.171875 L 6.59375 -7.171875 L 6.09375 -5.15625 L 7.609375 -5.15625 L 7.609375 -4.40625 L 5.90625 -4.40625 L 5.5 -2.765625 L 7.046875 -2.765625 L 7.046875 -2.015625 L 5.3125 -2.015625 L 4.796875 0 L 4.015625 0 L 4.515625 -2.015625 L 3.09375 -2.015625 L 2.59375 0 L 1.796875 0 L 2.3125 -2.015625 L 0.765625 -2.015625 L 0.765625 -2.765625 L 2.484375 -2.765625 L 2.90625 -4.40625 L 1.328125 -4.40625 L 1.328125 -5.15625 L 3.09375 -5.15625 L 3.59375 -7.171875 Z M 4.375 -7.171875 \" style=\"stroke:none;\"/>\n",
       "</symbol>\n",
       "<symbol id=\"glyph0-19\" overflow=\"visible\">\n",
       "<path d=\"M 3.171875 -6.640625 C 2.671875 -6.640625 2.289062 -6.390625 2.03125 -5.890625 C 1.78125 -5.390625 1.65625 -4.640625 1.65625 -3.640625 C 1.65625 -2.640625 1.78125 -1.890625 2.03125 -1.390625 C 2.289062 -0.890625 2.671875 -0.640625 3.171875 -0.640625 C 3.691406 -0.640625 4.078125 -0.890625 4.328125 -1.390625 C 4.585938 -1.890625 4.71875 -2.640625 4.71875 -3.640625 C 4.71875 -4.640625 4.585938 -5.390625 4.328125 -5.890625 C 4.078125 -6.390625 3.691406 -6.640625 3.171875 -6.640625 Z M 3.171875 -7.421875 C 3.992188 -7.421875 4.617188 -7.097656 5.046875 -6.453125 C 5.484375 -5.804688 5.703125 -4.867188 5.703125 -3.640625 C 5.703125 -2.410156 5.484375 -1.472656 5.046875 -0.828125 C 4.617188 -0.179688 3.992188 0.140625 3.171875 0.140625 C 2.359375 0.140625 1.734375 -0.179688 1.296875 -0.828125 C 0.867188 -1.472656 0.65625 -2.410156 0.65625 -3.640625 C 0.65625 -4.867188 0.867188 -5.804688 1.296875 -6.453125 C 1.734375 -7.097656 2.359375 -7.421875 3.171875 -7.421875 Z M 3.171875 -7.421875 \" style=\"stroke:none;\"/>\n",
       "</symbol>\n",
       "<symbol id=\"glyph0-20\" overflow=\"visible\">\n",
       "<path d=\"M 0.984375 -7.296875 L 1.96875 -7.296875 L 1.96875 -0.828125 L 5.515625 -0.828125 L 5.515625 0 L 0.984375 0 Z M 0.984375 -7.296875 \" style=\"stroke:none;\"/>\n",
       "</symbol>\n",
       "<symbol id=\"glyph0-21\" overflow=\"visible\">\n",
       "<path d=\"M 3.296875 -4.03125 C 2.859375 -4.03125 2.507812 -3.878906 2.25 -3.578125 C 1.988281 -3.273438 1.859375 -2.863281 1.859375 -2.34375 C 1.859375 -1.8125 1.988281 -1.394531 2.25 -1.09375 C 2.507812 -0.789062 2.859375 -0.640625 3.296875 -0.640625 C 3.742188 -0.640625 4.09375 -0.789062 4.34375 -1.09375 C 4.601562 -1.394531 4.734375 -1.8125 4.734375 -2.34375 C 4.734375 -2.863281 4.601562 -3.273438 4.34375 -3.578125 C 4.09375 -3.878906 3.742188 -4.03125 3.296875 -4.03125 Z M 5.265625 -7.125 L 5.265625 -6.234375 C 5.015625 -6.347656 4.757812 -6.4375 4.5 -6.5 C 4.25 -6.5625 4.003906 -6.59375 3.765625 -6.59375 C 3.109375 -6.59375 2.609375 -6.375 2.265625 -5.9375 C 1.921875 -5.5 1.726562 -4.832031 1.6875 -3.9375 C 1.875 -4.21875 2.113281 -4.429688 2.40625 -4.578125 C 2.695312 -4.734375 3.015625 -4.8125 3.359375 -4.8125 C 4.085938 -4.8125 4.664062 -4.585938 5.09375 -4.140625 C 5.519531 -3.703125 5.734375 -3.101562 5.734375 -2.34375 C 5.734375 -1.59375 5.507812 -0.988281 5.0625 -0.53125 C 4.625 -0.0820312 4.035156 0.140625 3.296875 0.140625 C 2.453125 0.140625 1.804688 -0.179688 1.359375 -0.828125 C 0.921875 -1.472656 0.703125 -2.410156 0.703125 -3.640625 C 0.703125 -4.785156 0.972656 -5.703125 1.515625 -6.390625 C 2.066406 -7.078125 2.800781 -7.421875 3.71875 -7.421875 C 3.96875 -7.421875 4.21875 -7.394531 4.46875 -7.34375 C 4.71875 -7.300781 4.984375 -7.226562 5.265625 -7.125 Z M 5.265625 -7.125 \" style=\"stroke:none;\"/>\n",
       "</symbol>\n",
       "<symbol id=\"glyph0-22\" overflow=\"visible\">\n",
       "<path d=\"M 3.78125 -6.4375 L 1.296875 -2.546875 L 3.78125 -2.546875 Z M 3.515625 -7.296875 L 4.765625 -7.296875 L 4.765625 -2.546875 L 5.796875 -2.546875 L 5.796875 -1.71875 L 4.765625 -1.71875 L 4.765625 0 L 3.78125 0 L 3.78125 -1.71875 L 0.484375 -1.71875 L 0.484375 -2.671875 Z M 3.515625 -7.296875 \" style=\"stroke:none;\"/>\n",
       "</symbol>\n",
       "<symbol id=\"glyph0-23\" overflow=\"visible\">\n",
       "<path d=\"M 0.984375 -7.296875 L 1.96875 -7.296875 L 1.96875 -4.203125 L 5.234375 -7.296875 L 6.515625 -7.296875 L 2.890625 -3.890625 L 6.765625 0 L 5.46875 0 L 1.96875 -3.515625 L 1.96875 0 L 0.984375 0 Z M 0.984375 -7.296875 \" style=\"stroke:none;\"/>\n",
       "</symbol>\n",
       "<symbol id=\"glyph0-24\" overflow=\"visible\">\n",
       "<path d=\"M 1.921875 -0.828125 L 5.359375 -0.828125 L 5.359375 0 L 0.734375 0 L 0.734375 -0.828125 C 1.109375 -1.210938 1.617188 -1.734375 2.265625 -2.390625 C 2.910156 -3.046875 3.316406 -3.46875 3.484375 -3.65625 C 3.796875 -4.007812 4.015625 -4.304688 4.140625 -4.546875 C 4.265625 -4.796875 4.328125 -5.039062 4.328125 -5.28125 C 4.328125 -5.664062 4.191406 -5.976562 3.921875 -6.21875 C 3.648438 -6.46875 3.296875 -6.59375 2.859375 -6.59375 C 2.546875 -6.59375 2.21875 -6.535156 1.875 -6.421875 C 1.539062 -6.316406 1.175781 -6.15625 0.78125 -5.9375 L 0.78125 -6.9375 C 1.175781 -7.09375 1.546875 -7.210938 1.890625 -7.296875 C 2.234375 -7.378906 2.550781 -7.421875 2.84375 -7.421875 C 3.59375 -7.421875 4.191406 -7.234375 4.640625 -6.859375 C 5.097656 -6.484375 5.328125 -5.976562 5.328125 -5.34375 C 5.328125 -5.039062 5.269531 -4.753906 5.15625 -4.484375 C 5.039062 -4.222656 4.835938 -3.910156 4.546875 -3.546875 C 4.460938 -3.453125 4.203125 -3.175781 3.765625 -2.71875 C 3.328125 -2.269531 2.710938 -1.640625 1.921875 -0.828125 Z M 1.921875 -0.828125 \" style=\"stroke:none;\"/>\n",
       "</symbol>\n",
       "<symbol id=\"glyph0-25\" overflow=\"visible\">\n",
       "<path d=\"M 1.078125 -7.296875 L 4.953125 -7.296875 L 4.953125 -6.453125 L 1.984375 -6.453125 L 1.984375 -4.671875 C 2.128906 -4.722656 2.269531 -4.757812 2.40625 -4.78125 C 2.550781 -4.800781 2.695312 -4.8125 2.84375 -4.8125 C 3.65625 -4.8125 4.296875 -4.585938 4.765625 -4.140625 C 5.242188 -3.703125 5.484375 -3.101562 5.484375 -2.34375 C 5.484375 -1.550781 5.238281 -0.9375 4.75 -0.5 C 4.269531 -0.0703125 3.582031 0.140625 2.6875 0.140625 C 2.382812 0.140625 2.070312 0.113281 1.75 0.0625 C 1.4375 0.0078125 1.109375 -0.0664062 0.765625 -0.171875 L 0.765625 -1.15625 C 1.066406 -1 1.375 -0.878906 1.6875 -0.796875 C 2 -0.722656 2.328125 -0.6875 2.671875 -0.6875 C 3.234375 -0.6875 3.675781 -0.832031 4 -1.125 C 4.332031 -1.425781 4.5 -1.832031 4.5 -2.34375 C 4.5 -2.84375 4.332031 -3.238281 4 -3.53125 C 3.675781 -3.832031 3.234375 -3.984375 2.671875 -3.984375 C 2.410156 -3.984375 2.144531 -3.953125 1.875 -3.890625 C 1.613281 -3.835938 1.347656 -3.75 1.078125 -3.625 Z M 1.078125 -7.296875 \" style=\"stroke:none;\"/>\n",
       "</symbol>\n",
       "<symbol id=\"glyph0-26\" overflow=\"visible\">\n",
       "<path d=\"M 4.546875 -4.640625 L 4.546875 -7.59375 L 5.4375 -7.59375 L 5.4375 0 L 4.546875 0 L 4.546875 -0.828125 C 4.359375 -0.492188 4.117188 -0.25 3.828125 -0.09375 C 3.535156 0.0625 3.1875 0.140625 2.78125 0.140625 C 2.125 0.140625 1.585938 -0.117188 1.171875 -0.640625 C 0.753906 -1.171875 0.546875 -1.867188 0.546875 -2.734375 C 0.546875 -3.585938 0.753906 -4.273438 1.171875 -4.796875 C 1.585938 -5.328125 2.125 -5.59375 2.78125 -5.59375 C 3.1875 -5.59375 3.535156 -5.515625 3.828125 -5.359375 C 4.117188 -5.203125 4.359375 -4.960938 4.546875 -4.640625 Z M 1.484375 -2.734375 C 1.484375 -2.066406 1.617188 -1.546875 1.890625 -1.171875 C 2.160156 -0.796875 2.535156 -0.609375 3.015625 -0.609375 C 3.484375 -0.609375 3.851562 -0.796875 4.125 -1.171875 C 4.40625 -1.546875 4.546875 -2.066406 4.546875 -2.734375 C 4.546875 -3.390625 4.40625 -3.90625 4.125 -4.28125 C 3.851562 -4.65625 3.484375 -4.84375 3.015625 -4.84375 C 2.535156 -4.84375 2.160156 -4.65625 1.890625 -4.28125 C 1.617188 -3.90625 1.484375 -3.390625 1.484375 -2.734375 Z M 1.484375 -2.734375 \" style=\"stroke:none;\"/>\n",
       "</symbol>\n",
       "<symbol id=\"glyph0-27\" overflow=\"visible\">\n",
       "<path d=\"M 6.4375 -6.734375 L 6.4375 -5.6875 C 6.101562 -6 5.75 -6.226562 5.375 -6.375 C 5 -6.53125 4.601562 -6.609375 4.1875 -6.609375 C 3.351562 -6.609375 2.710938 -6.351562 2.265625 -5.84375 C 1.828125 -5.332031 1.609375 -4.597656 1.609375 -3.640625 C 1.609375 -2.679688 1.828125 -1.945312 2.265625 -1.4375 C 2.710938 -0.925781 3.351562 -0.671875 4.1875 -0.671875 C 4.601562 -0.671875 5 -0.742188 5.375 -0.890625 C 5.75 -1.046875 6.101562 -1.28125 6.4375 -1.59375 L 6.4375 -0.5625 C 6.09375 -0.320312 5.726562 -0.144531 5.34375 -0.03125 C 4.957031 0.0820312 4.550781 0.140625 4.125 0.140625 C 3.019531 0.140625 2.148438 -0.195312 1.515625 -0.875 C 0.878906 -1.550781 0.5625 -2.472656 0.5625 -3.640625 C 0.5625 -4.804688 0.878906 -5.726562 1.515625 -6.40625 C 2.148438 -7.082031 3.019531 -7.421875 4.125 -7.421875 C 4.5625 -7.421875 4.972656 -7.363281 5.359375 -7.25 C 5.742188 -7.132812 6.101562 -6.960938 6.4375 -6.734375 Z M 6.4375 -6.734375 \" style=\"stroke:none;\"/>\n",
       "</symbol>\n",
       "<symbol id=\"glyph0-28\" overflow=\"visible\">\n",
       "<path d=\"M 3.0625 -4.84375 C 2.582031 -4.84375 2.203125 -4.65625 1.921875 -4.28125 C 1.640625 -3.90625 1.5 -3.390625 1.5 -2.734375 C 1.5 -2.078125 1.632812 -1.5625 1.90625 -1.1875 C 2.1875 -0.8125 2.570312 -0.625 3.0625 -0.625 C 3.539062 -0.625 3.921875 -0.8125 4.203125 -1.1875 C 4.484375 -1.5625 4.625 -2.078125 4.625 -2.734375 C 4.625 -3.378906 4.484375 -3.890625 4.203125 -4.265625 C 3.921875 -4.648438 3.539062 -4.84375 3.0625 -4.84375 Z M 3.0625 -5.59375 C 3.84375 -5.59375 4.457031 -5.335938 4.90625 -4.828125 C 5.351562 -4.328125 5.578125 -3.628906 5.578125 -2.734375 C 5.578125 -1.835938 5.351562 -1.132812 4.90625 -0.625 C 4.457031 -0.113281 3.84375 0.140625 3.0625 0.140625 C 2.28125 0.140625 1.664062 -0.113281 1.21875 -0.625 C 0.769531 -1.132812 0.546875 -1.835938 0.546875 -2.734375 C 0.546875 -3.628906 0.769531 -4.328125 1.21875 -4.828125 C 1.664062 -5.335938 2.28125 -5.59375 3.0625 -5.59375 Z M 3.0625 -5.59375 \" style=\"stroke:none;\"/>\n",
       "</symbol>\n",
       "<symbol id=\"glyph0-29\" overflow=\"visible\">\n",
       "<path d=\"M 4.109375 -4.625 C 4.003906 -4.6875 3.894531 -4.726562 3.78125 -4.75 C 3.664062 -4.78125 3.535156 -4.796875 3.390625 -4.796875 C 2.878906 -4.796875 2.488281 -4.628906 2.21875 -4.296875 C 1.945312 -3.972656 1.8125 -3.5 1.8125 -2.875 L 1.8125 0 L 0.90625 0 L 0.90625 -5.46875 L 1.8125 -5.46875 L 1.8125 -4.625 C 2 -4.957031 2.242188 -5.203125 2.546875 -5.359375 C 2.847656 -5.515625 3.21875 -5.59375 3.65625 -5.59375 C 3.71875 -5.59375 3.785156 -5.585938 3.859375 -5.578125 C 3.929688 -5.578125 4.015625 -5.566406 4.109375 -5.546875 Z M 4.109375 -4.625 \" style=\"stroke:none;\"/>\n",
       "</symbol>\n",
       "<symbol id=\"glyph0-30\" overflow=\"visible\">\n",
       "<path d=\"M 0.875 -7.296875 L 1.859375 -7.296875 L 1.859375 -2.859375 C 1.859375 -2.078125 2 -1.515625 2.28125 -1.171875 C 2.5625 -0.828125 3.019531 -0.65625 3.65625 -0.65625 C 4.289062 -0.65625 4.75 -0.828125 5.03125 -1.171875 C 5.3125 -1.515625 5.453125 -2.078125 5.453125 -2.859375 L 5.453125 -7.296875 L 6.453125 -7.296875 L 6.453125 -2.734375 C 6.453125 -1.785156 6.21875 -1.066406 5.75 -0.578125 C 5.28125 -0.0976562 4.582031 0.140625 3.65625 0.140625 C 2.738281 0.140625 2.046875 -0.0976562 1.578125 -0.578125 C 1.109375 -1.066406 0.875 -1.785156 0.875 -2.734375 Z M 0.875 -7.296875 \" style=\"stroke:none;\"/>\n",
       "</symbol>\n",
       "<symbol id=\"glyph0-31\" overflow=\"visible\">\n",
       "<path d=\"M 0.828125 -7.296875 L 5.515625 -7.296875 L 5.515625 -6.875 L 2.859375 0 L 1.828125 0 L 4.328125 -6.453125 L 0.828125 -6.453125 Z M 0.828125 -7.296875 \" style=\"stroke:none;\"/>\n",
       "</symbol>\n",
       "<symbol id=\"glyph0-32\" overflow=\"visible\">\n",
       "<path d=\"M 0.984375 -7.296875 L 1.96875 -7.296875 L 1.96875 -4.296875 L 5.546875 -4.296875 L 5.546875 -7.296875 L 6.53125 -7.296875 L 6.53125 0 L 5.546875 0 L 5.546875 -3.46875 L 1.96875 -3.46875 L 1.96875 0 L 0.984375 0 Z M 0.984375 -7.296875 \" style=\"stroke:none;\"/>\n",
       "</symbol>\n",
       "<symbol id=\"glyph0-33\" overflow=\"visible\">\n",
       "<path d=\"M 4.421875 -5.3125 L 4.421875 -4.453125 C 4.171875 -4.585938 3.910156 -4.6875 3.640625 -4.75 C 3.367188 -4.8125 3.082031 -4.84375 2.78125 -4.84375 C 2.34375 -4.84375 2.007812 -4.773438 1.78125 -4.640625 C 1.5625 -4.503906 1.453125 -4.300781 1.453125 -4.03125 C 1.453125 -3.820312 1.53125 -3.65625 1.6875 -3.53125 C 1.84375 -3.414062 2.164062 -3.304688 2.65625 -3.203125 L 2.953125 -3.125 C 3.597656 -2.988281 4.050781 -2.796875 4.3125 -2.546875 C 4.582031 -2.296875 4.71875 -1.953125 4.71875 -1.515625 C 4.71875 -1.003906 4.515625 -0.597656 4.109375 -0.296875 C 3.710938 -0.00390625 3.164062 0.140625 2.46875 0.140625 C 2.164062 0.140625 1.851562 0.109375 1.53125 0.046875 C 1.21875 -0.00390625 0.890625 -0.0859375 0.546875 -0.203125 L 0.546875 -1.125 C 0.878906 -0.957031 1.203125 -0.828125 1.515625 -0.734375 C 1.835938 -0.648438 2.160156 -0.609375 2.484375 -0.609375 C 2.898438 -0.609375 3.222656 -0.679688 3.453125 -0.828125 C 3.679688 -0.972656 3.796875 -1.175781 3.796875 -1.4375 C 3.796875 -1.6875 3.710938 -1.875 3.546875 -2 C 3.390625 -2.132812 3.03125 -2.257812 2.46875 -2.375 L 2.15625 -2.453125 C 1.601562 -2.566406 1.203125 -2.742188 0.953125 -2.984375 C 0.703125 -3.234375 0.578125 -3.566406 0.578125 -3.984375 C 0.578125 -4.503906 0.757812 -4.898438 1.125 -5.171875 C 1.488281 -5.453125 2.007812 -5.59375 2.6875 -5.59375 C 3.007812 -5.59375 3.316406 -5.566406 3.609375 -5.515625 C 3.910156 -5.472656 4.179688 -5.40625 4.421875 -5.3125 Z M 4.421875 -5.3125 \" style=\"stroke:none;\"/>\n",
       "</symbol>\n",
       "<symbol id=\"glyph0-34\" overflow=\"visible\">\n",
       "<path d=\"M 1.828125 -7.015625 L 1.828125 -5.46875 L 3.6875 -5.46875 L 3.6875 -4.765625 L 1.828125 -4.765625 L 1.828125 -1.796875 C 1.828125 -1.359375 1.890625 -1.070312 2.015625 -0.9375 C 2.140625 -0.8125 2.390625 -0.75 2.765625 -0.75 L 3.6875 -0.75 L 3.6875 0 L 2.765625 0 C 2.066406 0 1.582031 -0.128906 1.3125 -0.390625 C 1.050781 -0.648438 0.921875 -1.117188 0.921875 -1.796875 L 0.921875 -4.765625 L 0.265625 -4.765625 L 0.265625 -5.46875 L 0.921875 -5.46875 L 0.921875 -7.015625 Z M 1.828125 -7.015625 \" style=\"stroke:none;\"/>\n",
       "</symbol>\n",
       "<symbol id=\"glyph0-35\" overflow=\"visible\">\n",
       "<path d=\"M 1.171875 -1.234375 L 2.203125 -1.234375 L 2.203125 0 L 1.171875 0 Z M 1.171875 -5.171875 L 2.203125 -5.171875 L 2.203125 -3.9375 L 1.171875 -3.9375 Z M 1.171875 -5.171875 \" style=\"stroke:none;\"/>\n",
       "</symbol>\n",
       "<symbol id=\"glyph0-36\" overflow=\"visible\">\n",
       "<path d=\"M 0.984375 -7.296875 L 1.96875 -7.296875 L 1.96875 0 L 0.984375 0 Z M 0.984375 -7.296875 \" style=\"stroke:none;\"/>\n",
       "</symbol>\n",
       "<symbol id=\"glyph0-37\" overflow=\"visible\">\n",
       "<path d=\"M 5.484375 -5.46875 L 3.515625 -2.8125 L 5.59375 0 L 4.53125 0 L 2.9375 -2.15625 L 1.34375 0 L 0.28125 0 L 2.40625 -2.859375 L 0.46875 -5.46875 L 1.53125 -5.46875 L 2.984375 -3.515625 L 4.421875 -5.46875 Z M 5.484375 -5.46875 \" style=\"stroke:none;\"/>\n",
       "</symbol>\n",
       "<symbol id=\"glyph0-38\" overflow=\"visible\">\n",
       "<path d=\"M 1.8125 -0.828125 L 1.8125 2.078125 L 0.90625 2.078125 L 0.90625 -5.46875 L 1.8125 -5.46875 L 1.8125 -4.640625 C 2 -4.960938 2.234375 -5.203125 2.515625 -5.359375 C 2.804688 -5.515625 3.15625 -5.59375 3.5625 -5.59375 C 4.226562 -5.59375 4.765625 -5.328125 5.171875 -4.796875 C 5.585938 -4.273438 5.796875 -3.585938 5.796875 -2.734375 C 5.796875 -1.867188 5.585938 -1.171875 5.171875 -0.640625 C 4.765625 -0.117188 4.226562 0.140625 3.5625 0.140625 C 3.15625 0.140625 2.804688 0.0625 2.515625 -0.09375 C 2.234375 -0.25 2 -0.492188 1.8125 -0.828125 Z M 4.875 -2.734375 C 4.875 -3.390625 4.734375 -3.90625 4.453125 -4.28125 C 4.179688 -4.65625 3.8125 -4.84375 3.34375 -4.84375 C 2.863281 -4.84375 2.488281 -4.65625 2.21875 -4.28125 C 1.945312 -3.90625 1.8125 -3.390625 1.8125 -2.734375 C 1.8125 -2.066406 1.945312 -1.546875 2.21875 -1.171875 C 2.488281 -0.796875 2.863281 -0.609375 3.34375 -0.609375 C 3.8125 -0.609375 4.179688 -0.796875 4.453125 -1.171875 C 4.734375 -1.546875 4.875 -2.066406 4.875 -2.734375 Z M 4.875 -2.734375 \" style=\"stroke:none;\"/>\n",
       "</symbol>\n",
       "<symbol id=\"glyph0-39\" overflow=\"visible\">\n",
       "<path d=\"M 3.21875 0.515625 C 2.96875 1.160156 2.71875 1.582031 2.46875 1.78125 C 2.226562 1.976562 1.910156 2.078125 1.515625 2.078125 L 0.796875 2.078125 L 0.796875 1.328125 L 1.3125 1.328125 C 1.5625 1.328125 1.753906 1.269531 1.890625 1.15625 C 2.023438 1.039062 2.175781 0.765625 2.34375 0.328125 L 2.515625 -0.09375 L 0.296875 -5.46875 L 1.25 -5.46875 L 2.953125 -1.1875 L 4.671875 -5.46875 L 5.625 -5.46875 Z M 3.21875 0.515625 \" style=\"stroke:none;\"/>\n",
       "</symbol>\n",
       "<symbol id=\"glyph0-40\" overflow=\"visible\">\n",
       "<path d=\"M 0.9375 -7.59375 L 1.84375 -7.59375 L 1.84375 0 L 0.9375 0 Z M 0.9375 -7.59375 \" style=\"stroke:none;\"/>\n",
       "</symbol>\n",
       "<symbol id=\"glyph0-41\" overflow=\"visible\">\n",
       "<path d=\"M 1.96875 -6.484375 L 1.96875 -0.8125 L 3.15625 -0.8125 C 4.164062 -0.8125 4.898438 -1.035156 5.359375 -1.484375 C 5.828125 -1.941406 6.0625 -2.664062 6.0625 -3.65625 C 6.0625 -4.632812 5.828125 -5.347656 5.359375 -5.796875 C 4.898438 -6.253906 4.164062 -6.484375 3.15625 -6.484375 Z M 0.984375 -7.296875 L 3.015625 -7.296875 C 4.421875 -7.296875 5.453125 -7 6.109375 -6.40625 C 6.773438 -5.820312 7.109375 -4.90625 7.109375 -3.65625 C 7.109375 -2.394531 6.773438 -1.46875 6.109375 -0.875 C 5.453125 -0.289062 4.421875 0 3.015625 0 L 0.984375 0 Z M 0.984375 -7.296875 \" style=\"stroke:none;\"/>\n",
       "</symbol>\n",
       "<symbol id=\"glyph0-42\" overflow=\"visible\">\n",
       "<path d=\"M 0.328125 -7.296875 L 1.328125 -7.296875 L 2.859375 -1.125 L 4.390625 -7.296875 L 5.5 -7.296875 L 7.03125 -1.125 L 8.5625 -7.296875 L 9.5625 -7.296875 L 7.734375 0 L 6.484375 0 L 4.953125 -6.328125 L 3.40625 0 L 2.15625 0 Z M 0.328125 -7.296875 \" style=\"stroke:none;\"/>\n",
       "</symbol>\n",
       "<symbol id=\"glyph0-43\" overflow=\"visible\">\n",
       "<path d=\"M 3.171875 -3.46875 C 2.703125 -3.46875 2.332031 -3.335938 2.0625 -3.078125 C 1.800781 -2.828125 1.671875 -2.484375 1.671875 -2.046875 C 1.671875 -1.609375 1.800781 -1.265625 2.0625 -1.015625 C 2.332031 -0.765625 2.703125 -0.640625 3.171875 -0.640625 C 3.640625 -0.640625 4.007812 -0.765625 4.28125 -1.015625 C 4.550781 -1.265625 4.6875 -1.609375 4.6875 -2.046875 C 4.6875 -2.484375 4.550781 -2.828125 4.28125 -3.078125 C 4.019531 -3.335938 3.648438 -3.46875 3.171875 -3.46875 Z M 2.1875 -3.875 C 1.769531 -3.976562 1.441406 -4.175781 1.203125 -4.46875 C 0.960938 -4.757812 0.84375 -5.113281 0.84375 -5.53125 C 0.84375 -6.113281 1.050781 -6.570312 1.46875 -6.90625 C 1.882812 -7.25 2.453125 -7.421875 3.171875 -7.421875 C 3.898438 -7.421875 4.472656 -7.25 4.890625 -6.90625 C 5.304688 -6.570312 5.515625 -6.113281 5.515625 -5.53125 C 5.515625 -5.113281 5.394531 -4.757812 5.15625 -4.46875 C 4.914062 -4.175781 4.585938 -3.976562 4.171875 -3.875 C 4.648438 -3.769531 5.019531 -3.554688 5.28125 -3.234375 C 5.539062 -2.910156 5.671875 -2.515625 5.671875 -2.046875 C 5.671875 -1.335938 5.457031 -0.796875 5.03125 -0.421875 C 4.601562 -0.046875 3.984375 0.140625 3.171875 0.140625 C 2.367188 0.140625 1.75 -0.046875 1.3125 -0.421875 C 0.882812 -0.796875 0.671875 -1.335938 0.671875 -2.046875 C 0.671875 -2.515625 0.804688 -2.910156 1.078125 -3.234375 C 1.347656 -3.554688 1.71875 -3.769531 2.1875 -3.875 Z M 1.828125 -5.4375 C 1.828125 -5.0625 1.945312 -4.765625 2.1875 -4.546875 C 2.425781 -4.335938 2.753906 -4.234375 3.171875 -4.234375 C 3.597656 -4.234375 3.929688 -4.335938 4.171875 -4.546875 C 4.410156 -4.765625 4.53125 -5.0625 4.53125 -5.4375 C 4.53125 -5.8125 4.410156 -6.101562 4.171875 -6.3125 C 3.929688 -6.53125 3.597656 -6.640625 3.171875 -6.640625 C 2.753906 -6.640625 2.425781 -6.53125 2.1875 -6.3125 C 1.945312 -6.101562 1.828125 -5.8125 1.828125 -5.4375 Z M 1.828125 -5.4375 \" style=\"stroke:none;\"/>\n",
       "</symbol>\n",
       "<symbol id=\"glyph0-44\" overflow=\"visible\">\n",
       "<path d=\"M 5.359375 -7.046875 L 5.359375 -6.09375 C 4.984375 -6.269531 4.628906 -6.398438 4.296875 -6.484375 C 3.960938 -6.578125 3.640625 -6.625 3.328125 -6.625 C 2.796875 -6.625 2.382812 -6.519531 2.09375 -6.3125 C 1.800781 -6.101562 1.65625 -5.804688 1.65625 -5.421875 C 1.65625 -5.097656 1.75 -4.851562 1.9375 -4.6875 C 2.132812 -4.519531 2.503906 -4.390625 3.046875 -4.296875 L 3.640625 -4.171875 C 4.367188 -4.023438 4.910156 -3.773438 5.265625 -3.421875 C 5.617188 -3.078125 5.796875 -2.609375 5.796875 -2.015625 C 5.796875 -1.304688 5.554688 -0.769531 5.078125 -0.40625 C 4.609375 -0.0390625 3.914062 0.140625 3 0.140625 C 2.65625 0.140625 2.285156 0.0976562 1.890625 0.015625 C 1.503906 -0.0546875 1.101562 -0.171875 0.6875 -0.328125 L 0.6875 -1.34375 C 1.09375 -1.113281 1.484375 -0.941406 1.859375 -0.828125 C 2.242188 -0.710938 2.625 -0.65625 3 -0.65625 C 3.5625 -0.65625 3.992188 -0.765625 4.296875 -0.984375 C 4.609375 -1.210938 4.765625 -1.53125 4.765625 -1.9375 C 4.765625 -2.289062 4.65625 -2.566406 4.4375 -2.765625 C 4.21875 -2.972656 3.851562 -3.128906 3.34375 -3.234375 L 2.75 -3.34375 C 2.007812 -3.488281 1.472656 -3.71875 1.140625 -4.03125 C 0.816406 -4.34375 0.65625 -4.78125 0.65625 -5.34375 C 0.65625 -5.988281 0.878906 -6.492188 1.328125 -6.859375 C 1.785156 -7.234375 2.414062 -7.421875 3.21875 -7.421875 C 3.5625 -7.421875 3.910156 -7.390625 4.265625 -7.328125 C 4.617188 -7.265625 4.984375 -7.171875 5.359375 -7.046875 Z M 5.359375 -7.046875 \" style=\"stroke:none;\"/>\n",
       "</symbol>\n",
       "<symbol id=\"glyph0-45\" overflow=\"visible\">\n",
       "<path d=\"M -0.03125 -7.296875 L 6.140625 -7.296875 L 6.140625 -6.453125 L 3.546875 -6.453125 L 3.546875 0 L 2.5625 0 L 2.5625 -6.453125 L -0.03125 -6.453125 Z M -0.03125 -7.296875 \" style=\"stroke:none;\"/>\n",
       "</symbol>\n",
       "</g>\n",
       "</defs>\n",
       "<g id=\"surface6\">\n",
       "<path d=\"M 0 0 L 370 0 L 370 340 L 0 340 Z M 0 0 \" style=\"fill-rule:nonzero;fill:rgb(100%,100%,100%);fill-opacity:1;stroke-width:1;stroke-linecap:butt;stroke-linejoin:miter;stroke:rgb(0%,0%,0%);stroke-opacity:1;stroke-miterlimit:10;\"/>\n",
       "<g style=\"fill:rgb(0%,0%,0%);fill-opacity:1;\">\n",
       "  <use x=\"10\" xlink:href=\"#glyph0-1\" y=\"20\"/>\n",
       "  <use x=\"18.62793\" xlink:href=\"#glyph0-2\" y=\"20\"/>\n",
       "  <use x=\"24.755859\" xlink:href=\"#glyph0-3\" y=\"20\"/>\n",
       "  <use x=\"30.253906\" xlink:href=\"#glyph0-4\" y=\"20\"/>\n",
       "  <use x=\"36.591797\" xlink:href=\"#glyph0-5\" y=\"20\"/>\n",
       "  <use x=\"39.370117\" xlink:href=\"#glyph0-6\" y=\"20\"/>\n",
       "  <use x=\"45.708008\" xlink:href=\"#glyph0-7\" y=\"20\"/>\n",
       "  <use x=\"51.860352\" xlink:href=\"#glyph0-8\" y=\"20\"/>\n",
       "  <use x=\"55.039062\" xlink:href=\"#glyph0-9\" y=\"20\"/>\n",
       "  <use x=\"58.94043\" xlink:href=\"#glyph0-10\" y=\"20\"/>\n",
       "  <use x=\"65.302734\" xlink:href=\"#glyph0-11\" y=\"20\"/>\n",
       "  <use x=\"71.665039\" xlink:href=\"#glyph0-12\" y=\"20\"/>\n",
       "  <use x=\"79.414062\" xlink:href=\"#glyph0-13\" y=\"20\"/>\n",
       "  <use x=\"86.274414\" xlink:href=\"#glyph0-14\" y=\"20\"/>\n",
       "</g>\n",
       "<path d=\"M 10 30 L 360 30 L 360 330 L 10 330 Z M 10 30 \" style=\"fill-rule:nonzero;fill:rgb(87.058824%,87.058824%,87.058824%);fill-opacity:1;stroke-width:1;stroke-linecap:butt;stroke-linejoin:miter;stroke:rgb(0%,0%,0%);stroke-opacity:1;stroke-miterlimit:10;\"/>\n",
       "<g style=\"fill:rgb(0%,0%,0%);fill-opacity:1;\">\n",
       "  <use x=\"20\" xlink:href=\"#glyph0-15\" y=\"50\"/>\n",
       "  <use x=\"26.030273\" xlink:href=\"#glyph0-2\" y=\"50\"/>\n",
       "  <use x=\"32.158203\" xlink:href=\"#glyph0-3\" y=\"50\"/>\n",
       "  <use x=\"37.65625\" xlink:href=\"#glyph0-16\" y=\"50\"/>\n",
       "  <use x=\"43.447266\" xlink:href=\"#glyph0-2\" y=\"50\"/>\n",
       "  <use x=\"49.575195\" xlink:href=\"#glyph0-17\" y=\"50\"/>\n",
       "  <use x=\"55.922852\" xlink:href=\"#glyph0-7\" y=\"50\"/>\n",
       "  <use x=\"62.075195\" xlink:href=\"#glyph0-8\" y=\"50\"/>\n",
       "  <use x=\"65.253906\" xlink:href=\"#glyph0-15\" y=\"50\"/>\n",
       "  <use x=\"71.28418\" xlink:href=\"#glyph0-18\" y=\"50\"/>\n",
       "  <use x=\"79.663086\" xlink:href=\"#glyph0-19\" y=\"50\"/>\n",
       "</g>\n",
       "<path d=\"M 20 60 L 350 60 L 350 90 L 20 90 Z M 20 60 \" style=\"fill-rule:nonzero;fill:rgb(100%,100%,100%);fill-opacity:1;stroke-width:1;stroke-linecap:butt;stroke-linejoin:miter;stroke:rgb(0%,0%,0%);stroke-opacity:1;stroke-miterlimit:10;\"/>\n",
       "<g style=\"fill:rgb(0%,0%,0%);fill-opacity:1;\">\n",
       "  <use x=\"30\" xlink:href=\"#glyph0-20\" y=\"80\"/>\n",
       "  <use x=\"35.571289\" xlink:href=\"#glyph0-10\" y=\"80\"/>\n",
       "  <use x=\"41.933594\" xlink:href=\"#glyph0-8\" y=\"80\"/>\n",
       "  <use x=\"45.112305\" xlink:href=\"#glyph0-9\" y=\"80\"/>\n",
       "  <use x=\"49.013672\" xlink:href=\"#glyph0-21\" y=\"80\"/>\n",
       "  <use x=\"55.375977\" xlink:href=\"#glyph0-11\" y=\"80\"/>\n",
       "  <use x=\"61.738281\" xlink:href=\"#glyph0-22\" y=\"80\"/>\n",
       "  <use x=\"68.100586\" xlink:href=\"#glyph0-22\" y=\"80\"/>\n",
       "  <use x=\"74.462891\" xlink:href=\"#glyph0-23\" y=\"80\"/>\n",
       "  <use x=\"81.020508\" xlink:href=\"#glyph0-13\" y=\"80\"/>\n",
       "  <use x=\"87.880859\" xlink:href=\"#glyph0-14\" y=\"80\"/>\n",
       "</g>\n",
       "<path d=\"M 20 100 L 95 100 L 95 130 L 20 130 Z M 20 100 \" style=\"fill-rule:nonzero;fill:rgb(100%,100%,100%);fill-opacity:1;stroke-width:1;stroke-linecap:butt;stroke-linejoin:miter;stroke:rgb(0%,0%,0%);stroke-opacity:1;stroke-miterlimit:10;\"/>\n",
       "<g style=\"fill:rgb(0%,0%,0%);fill-opacity:1;\">\n",
       "  <use x=\"30\" xlink:href=\"#glyph0-20\" y=\"120\"/>\n",
       "  <use x=\"35.571289\" xlink:href=\"#glyph0-24\" y=\"120\"/>\n",
       "  <use x=\"41.933594\" xlink:href=\"#glyph0-8\" y=\"120\"/>\n",
       "  <use x=\"45.112305\" xlink:href=\"#glyph0-9\" y=\"120\"/>\n",
       "  <use x=\"49.013672\" xlink:href=\"#glyph0-24\" y=\"120\"/>\n",
       "  <use x=\"55.375977\" xlink:href=\"#glyph0-25\" y=\"120\"/>\n",
       "  <use x=\"61.738281\" xlink:href=\"#glyph0-21\" y=\"120\"/>\n",
       "  <use x=\"68.100586\" xlink:href=\"#glyph0-23\" y=\"120\"/>\n",
       "  <use x=\"74.658203\" xlink:href=\"#glyph0-13\" y=\"120\"/>\n",
       "  <use x=\"81.518555\" xlink:href=\"#glyph0-14\" y=\"120\"/>\n",
       "</g>\n",
       "<path d=\"M 20 140 L 95 140 L 95 170 L 20 170 Z M 20 140 \" style=\"fill-rule:nonzero;fill:rgb(100%,100%,100%);fill-opacity:1;stroke-width:1;stroke-linecap:butt;stroke-linejoin:miter;stroke:rgb(0%,0%,0%);stroke-opacity:1;stroke-miterlimit:10;\"/>\n",
       "<g style=\"fill:rgb(0%,0%,0%);fill-opacity:1;\">\n",
       "  <use x=\"30\" xlink:href=\"#glyph0-20\" y=\"160\"/>\n",
       "  <use x=\"35.571289\" xlink:href=\"#glyph0-11\" y=\"160\"/>\n",
       "  <use x=\"41.933594\" xlink:href=\"#glyph0-26\" y=\"160\"/>\n",
       "  <use x=\"48.28125\" xlink:href=\"#glyph0-8\" y=\"160\"/>\n",
       "  <use x=\"51.459961\" xlink:href=\"#glyph0-9\" y=\"160\"/>\n",
       "  <use x=\"55.361328\" xlink:href=\"#glyph0-10\" y=\"160\"/>\n",
       "  <use x=\"61.723633\" xlink:href=\"#glyph0-24\" y=\"160\"/>\n",
       "  <use x=\"68.085938\" xlink:href=\"#glyph0-23\" y=\"160\"/>\n",
       "  <use x=\"74.643555\" xlink:href=\"#glyph0-13\" y=\"160\"/>\n",
       "  <use x=\"81.503906\" xlink:href=\"#glyph0-14\" y=\"160\"/>\n",
       "</g>\n",
       "<path d=\"M 20 180 L 95 180 L 95 210 L 20 210 Z M 20 180 \" style=\"fill-rule:nonzero;fill:rgb(100%,100%,100%);fill-opacity:1;stroke-width:1;stroke-linecap:butt;stroke-linejoin:miter;stroke:rgb(0%,0%,0%);stroke-opacity:1;stroke-miterlimit:10;\"/>\n",
       "<g style=\"fill:rgb(0%,0%,0%);fill-opacity:1;\">\n",
       "  <use x=\"30\" xlink:href=\"#glyph0-20\" y=\"200\"/>\n",
       "  <use x=\"35.571289\" xlink:href=\"#glyph0-11\" y=\"200\"/>\n",
       "  <use x=\"41.933594\" xlink:href=\"#glyph0-5\" y=\"200\"/>\n",
       "  <use x=\"44.711914\" xlink:href=\"#glyph0-8\" y=\"200\"/>\n",
       "  <use x=\"47.890625\" xlink:href=\"#glyph0-9\" y=\"200\"/>\n",
       "  <use x=\"51.791992\" xlink:href=\"#glyph0-10\" y=\"200\"/>\n",
       "  <use x=\"58.154297\" xlink:href=\"#glyph0-24\" y=\"200\"/>\n",
       "  <use x=\"64.516602\" xlink:href=\"#glyph0-23\" y=\"200\"/>\n",
       "  <use x=\"71.074219\" xlink:href=\"#glyph0-13\" y=\"200\"/>\n",
       "  <use x=\"77.93457\" xlink:href=\"#glyph0-14\" y=\"200\"/>\n",
       "</g>\n",
       "<path d=\"M 20 220 L 95 220 L 95 320 L 20 320 Z M 20 220 \" style=\"fill-rule:nonzero;fill:rgb(74.509805%,74.509805%,74.509805%);fill-opacity:1;stroke-width:1;stroke-linecap:butt;stroke-linejoin:miter;stroke:rgb(0%,0%,0%);stroke-opacity:1;stroke-miterlimit:10;\"/>\n",
       "<g style=\"fill:rgb(0%,0%,0%);fill-opacity:1;\">\n",
       "  <use x=\"30\" xlink:href=\"#glyph0-27\" y=\"240\"/>\n",
       "  <use x=\"36.982422\" xlink:href=\"#glyph0-28\" y=\"240\"/>\n",
       "  <use x=\"43.100586\" xlink:href=\"#glyph0-29\" y=\"240\"/>\n",
       "  <use x=\"47.211914\" xlink:href=\"#glyph0-7\" y=\"240\"/>\n",
       "  <use x=\"53.364258\" xlink:href=\"#glyph0-8\" y=\"240\"/>\n",
       "  <use x=\"56.542969\" xlink:href=\"#glyph0-15\" y=\"240\"/>\n",
       "  <use x=\"62.573242\" xlink:href=\"#glyph0-18\" y=\"240\"/>\n",
       "  <use x=\"70.952148\" xlink:href=\"#glyph0-19\" y=\"240\"/>\n",
       "</g>\n",
       "<path d=\"M 30 250 L 85 250 L 85 280 L 30 280 Z M 30 250 \" style=\"fill-rule:nonzero;fill:rgb(100%,100%,100%);fill-opacity:1;stroke-width:1;stroke-linecap:butt;stroke-linejoin:miter;stroke:rgb(0%,0%,0%);stroke-opacity:1;stroke-miterlimit:10;\"/>\n",
       "<g style=\"fill:rgb(0%,0%,0%);fill-opacity:1;\">\n",
       "  <use x=\"40\" xlink:href=\"#glyph0-15\" y=\"270\"/>\n",
       "  <use x=\"46.030273\" xlink:href=\"#glyph0-30\" y=\"270\"/>\n",
       "  <use x=\"53.349609\" xlink:href=\"#glyph0-8\" y=\"270\"/>\n",
       "  <use x=\"56.52832\" xlink:href=\"#glyph0-15\" y=\"270\"/>\n",
       "  <use x=\"62.558594\" xlink:href=\"#glyph0-18\" y=\"270\"/>\n",
       "  <use x=\"70.9375\" xlink:href=\"#glyph0-19\" y=\"270\"/>\n",
       "</g>\n",
       "<path d=\"M 30 280 L 85 280 L 85 310 L 30 310 Z M 30 280 \" style=\"fill-rule:nonzero;fill:rgb(100%,100%,100%);fill-opacity:1;stroke-width:1;stroke-linecap:butt;stroke-linejoin:miter;stroke:rgb(0%,0%,0%);stroke-opacity:1;stroke-miterlimit:10;\"/>\n",
       "<g style=\"fill:rgb(0%,0%,0%);fill-opacity:1;\">\n",
       "  <use x=\"40\" xlink:href=\"#glyph0-15\" y=\"300\"/>\n",
       "  <use x=\"46.030273\" xlink:href=\"#glyph0-30\" y=\"300\"/>\n",
       "  <use x=\"53.349609\" xlink:href=\"#glyph0-8\" y=\"300\"/>\n",
       "  <use x=\"56.52832\" xlink:href=\"#glyph0-15\" y=\"300\"/>\n",
       "  <use x=\"62.558594\" xlink:href=\"#glyph0-18\" y=\"300\"/>\n",
       "  <use x=\"70.9375\" xlink:href=\"#glyph0-22\" y=\"300\"/>\n",
       "</g>\n",
       "<path d=\"M 105 100 L 180 100 L 180 130 L 105 130 Z M 105 100 \" style=\"fill-rule:nonzero;fill:rgb(100%,100%,100%);fill-opacity:1;stroke-width:1;stroke-linecap:butt;stroke-linejoin:miter;stroke:rgb(0%,0%,0%);stroke-opacity:1;stroke-miterlimit:10;\"/>\n",
       "<g style=\"fill:rgb(0%,0%,0%);fill-opacity:1;\">\n",
       "  <use x=\"115\" xlink:href=\"#glyph0-20\" y=\"120\"/>\n",
       "  <use x=\"120.571289\" xlink:href=\"#glyph0-24\" y=\"120\"/>\n",
       "  <use x=\"126.933594\" xlink:href=\"#glyph0-8\" y=\"120\"/>\n",
       "  <use x=\"130.112305\" xlink:href=\"#glyph0-9\" y=\"120\"/>\n",
       "  <use x=\"134.013672\" xlink:href=\"#glyph0-24\" y=\"120\"/>\n",
       "  <use x=\"140.375977\" xlink:href=\"#glyph0-25\" y=\"120\"/>\n",
       "  <use x=\"146.738281\" xlink:href=\"#glyph0-21\" y=\"120\"/>\n",
       "  <use x=\"153.100586\" xlink:href=\"#glyph0-23\" y=\"120\"/>\n",
       "  <use x=\"159.658203\" xlink:href=\"#glyph0-13\" y=\"120\"/>\n",
       "  <use x=\"166.518555\" xlink:href=\"#glyph0-14\" y=\"120\"/>\n",
       "</g>\n",
       "<path d=\"M 105 140 L 180 140 L 180 170 L 105 170 Z M 105 140 \" style=\"fill-rule:nonzero;fill:rgb(100%,100%,100%);fill-opacity:1;stroke-width:1;stroke-linecap:butt;stroke-linejoin:miter;stroke:rgb(0%,0%,0%);stroke-opacity:1;stroke-miterlimit:10;\"/>\n",
       "<g style=\"fill:rgb(0%,0%,0%);fill-opacity:1;\">\n",
       "  <use x=\"115\" xlink:href=\"#glyph0-20\" y=\"160\"/>\n",
       "  <use x=\"120.571289\" xlink:href=\"#glyph0-11\" y=\"160\"/>\n",
       "  <use x=\"126.933594\" xlink:href=\"#glyph0-26\" y=\"160\"/>\n",
       "  <use x=\"133.28125\" xlink:href=\"#glyph0-8\" y=\"160\"/>\n",
       "  <use x=\"136.459961\" xlink:href=\"#glyph0-9\" y=\"160\"/>\n",
       "  <use x=\"140.361328\" xlink:href=\"#glyph0-10\" y=\"160\"/>\n",
       "  <use x=\"146.723633\" xlink:href=\"#glyph0-24\" y=\"160\"/>\n",
       "  <use x=\"153.085938\" xlink:href=\"#glyph0-23\" y=\"160\"/>\n",
       "  <use x=\"159.643555\" xlink:href=\"#glyph0-13\" y=\"160\"/>\n",
       "  <use x=\"166.503906\" xlink:href=\"#glyph0-14\" y=\"160\"/>\n",
       "</g>\n",
       "<path d=\"M 105 180 L 180 180 L 180 210 L 105 210 Z M 105 180 \" style=\"fill-rule:nonzero;fill:rgb(100%,100%,100%);fill-opacity:1;stroke-width:1;stroke-linecap:butt;stroke-linejoin:miter;stroke:rgb(0%,0%,0%);stroke-opacity:1;stroke-miterlimit:10;\"/>\n",
       "<g style=\"fill:rgb(0%,0%,0%);fill-opacity:1;\">\n",
       "  <use x=\"115\" xlink:href=\"#glyph0-20\" y=\"200\"/>\n",
       "  <use x=\"120.571289\" xlink:href=\"#glyph0-11\" y=\"200\"/>\n",
       "  <use x=\"126.933594\" xlink:href=\"#glyph0-5\" y=\"200\"/>\n",
       "  <use x=\"129.711914\" xlink:href=\"#glyph0-8\" y=\"200\"/>\n",
       "  <use x=\"132.890625\" xlink:href=\"#glyph0-9\" y=\"200\"/>\n",
       "  <use x=\"136.791992\" xlink:href=\"#glyph0-10\" y=\"200\"/>\n",
       "  <use x=\"143.154297\" xlink:href=\"#glyph0-24\" y=\"200\"/>\n",
       "  <use x=\"149.516602\" xlink:href=\"#glyph0-23\" y=\"200\"/>\n",
       "  <use x=\"156.074219\" xlink:href=\"#glyph0-13\" y=\"200\"/>\n",
       "  <use x=\"162.93457\" xlink:href=\"#glyph0-14\" y=\"200\"/>\n",
       "</g>\n",
       "<path d=\"M 105 220 L 180 220 L 180 320 L 105 320 Z M 105 220 \" style=\"fill-rule:nonzero;fill:rgb(74.509805%,74.509805%,74.509805%);fill-opacity:1;stroke-width:1;stroke-linecap:butt;stroke-linejoin:miter;stroke:rgb(0%,0%,0%);stroke-opacity:1;stroke-miterlimit:10;\"/>\n",
       "<g style=\"fill:rgb(0%,0%,0%);fill-opacity:1;\">\n",
       "  <use x=\"115\" xlink:href=\"#glyph0-27\" y=\"240\"/>\n",
       "  <use x=\"121.982422\" xlink:href=\"#glyph0-28\" y=\"240\"/>\n",
       "  <use x=\"128.100586\" xlink:href=\"#glyph0-29\" y=\"240\"/>\n",
       "  <use x=\"132.211914\" xlink:href=\"#glyph0-7\" y=\"240\"/>\n",
       "  <use x=\"138.364258\" xlink:href=\"#glyph0-8\" y=\"240\"/>\n",
       "  <use x=\"141.542969\" xlink:href=\"#glyph0-15\" y=\"240\"/>\n",
       "  <use x=\"147.573242\" xlink:href=\"#glyph0-18\" y=\"240\"/>\n",
       "  <use x=\"155.952148\" xlink:href=\"#glyph0-11\" y=\"240\"/>\n",
       "</g>\n",
       "<path d=\"M 115 250 L 170 250 L 170 280 L 115 280 Z M 115 250 \" style=\"fill-rule:nonzero;fill:rgb(100%,100%,100%);fill-opacity:1;stroke-width:1;stroke-linecap:butt;stroke-linejoin:miter;stroke:rgb(0%,0%,0%);stroke-opacity:1;stroke-miterlimit:10;\"/>\n",
       "<g style=\"fill:rgb(0%,0%,0%);fill-opacity:1;\">\n",
       "  <use x=\"125\" xlink:href=\"#glyph0-15\" y=\"270\"/>\n",
       "  <use x=\"131.030273\" xlink:href=\"#glyph0-30\" y=\"270\"/>\n",
       "  <use x=\"138.349609\" xlink:href=\"#glyph0-8\" y=\"270\"/>\n",
       "  <use x=\"141.52832\" xlink:href=\"#glyph0-15\" y=\"270\"/>\n",
       "  <use x=\"147.558594\" xlink:href=\"#glyph0-18\" y=\"270\"/>\n",
       "  <use x=\"155.9375\" xlink:href=\"#glyph0-11\" y=\"270\"/>\n",
       "</g>\n",
       "<path d=\"M 115 280 L 170 280 L 170 310 L 115 310 Z M 115 280 \" style=\"fill-rule:nonzero;fill:rgb(100%,100%,100%);fill-opacity:1;stroke-width:1;stroke-linecap:butt;stroke-linejoin:miter;stroke:rgb(0%,0%,0%);stroke-opacity:1;stroke-miterlimit:10;\"/>\n",
       "<g style=\"fill:rgb(0%,0%,0%);fill-opacity:1;\">\n",
       "  <use x=\"125\" xlink:href=\"#glyph0-15\" y=\"300\"/>\n",
       "  <use x=\"131.030273\" xlink:href=\"#glyph0-30\" y=\"300\"/>\n",
       "  <use x=\"138.349609\" xlink:href=\"#glyph0-8\" y=\"300\"/>\n",
       "  <use x=\"141.52832\" xlink:href=\"#glyph0-15\" y=\"300\"/>\n",
       "  <use x=\"147.558594\" xlink:href=\"#glyph0-18\" y=\"300\"/>\n",
       "  <use x=\"155.9375\" xlink:href=\"#glyph0-25\" y=\"300\"/>\n",
       "</g>\n",
       "<path d=\"M 190 100 L 265 100 L 265 130 L 190 130 Z M 190 100 \" style=\"fill-rule:nonzero;fill:rgb(100%,100%,100%);fill-opacity:1;stroke-width:1;stroke-linecap:butt;stroke-linejoin:miter;stroke:rgb(0%,0%,0%);stroke-opacity:1;stroke-miterlimit:10;\"/>\n",
       "<g style=\"fill:rgb(0%,0%,0%);fill-opacity:1;\">\n",
       "  <use x=\"200\" xlink:href=\"#glyph0-20\" y=\"120\"/>\n",
       "  <use x=\"205.571289\" xlink:href=\"#glyph0-24\" y=\"120\"/>\n",
       "  <use x=\"211.933594\" xlink:href=\"#glyph0-8\" y=\"120\"/>\n",
       "  <use x=\"215.112305\" xlink:href=\"#glyph0-9\" y=\"120\"/>\n",
       "  <use x=\"219.013672\" xlink:href=\"#glyph0-24\" y=\"120\"/>\n",
       "  <use x=\"225.375977\" xlink:href=\"#glyph0-25\" y=\"120\"/>\n",
       "  <use x=\"231.738281\" xlink:href=\"#glyph0-21\" y=\"120\"/>\n",
       "  <use x=\"238.100586\" xlink:href=\"#glyph0-23\" y=\"120\"/>\n",
       "  <use x=\"244.658203\" xlink:href=\"#glyph0-13\" y=\"120\"/>\n",
       "  <use x=\"251.518555\" xlink:href=\"#glyph0-14\" y=\"120\"/>\n",
       "</g>\n",
       "<path d=\"M 190 140 L 265 140 L 265 170 L 190 170 Z M 190 140 \" style=\"fill-rule:nonzero;fill:rgb(100%,100%,100%);fill-opacity:1;stroke-width:1;stroke-linecap:butt;stroke-linejoin:miter;stroke:rgb(0%,0%,0%);stroke-opacity:1;stroke-miterlimit:10;\"/>\n",
       "<g style=\"fill:rgb(0%,0%,0%);fill-opacity:1;\">\n",
       "  <use x=\"200\" xlink:href=\"#glyph0-20\" y=\"160\"/>\n",
       "  <use x=\"205.571289\" xlink:href=\"#glyph0-11\" y=\"160\"/>\n",
       "  <use x=\"211.933594\" xlink:href=\"#glyph0-26\" y=\"160\"/>\n",
       "  <use x=\"218.28125\" xlink:href=\"#glyph0-8\" y=\"160\"/>\n",
       "  <use x=\"221.459961\" xlink:href=\"#glyph0-9\" y=\"160\"/>\n",
       "  <use x=\"225.361328\" xlink:href=\"#glyph0-10\" y=\"160\"/>\n",
       "  <use x=\"231.723633\" xlink:href=\"#glyph0-24\" y=\"160\"/>\n",
       "  <use x=\"238.085938\" xlink:href=\"#glyph0-23\" y=\"160\"/>\n",
       "  <use x=\"244.643555\" xlink:href=\"#glyph0-13\" y=\"160\"/>\n",
       "  <use x=\"251.503906\" xlink:href=\"#glyph0-14\" y=\"160\"/>\n",
       "</g>\n",
       "<path d=\"M 190 180 L 265 180 L 265 210 L 190 210 Z M 190 180 \" style=\"fill-rule:nonzero;fill:rgb(100%,100%,100%);fill-opacity:1;stroke-width:1;stroke-linecap:butt;stroke-linejoin:miter;stroke:rgb(0%,0%,0%);stroke-opacity:1;stroke-miterlimit:10;\"/>\n",
       "<g style=\"fill:rgb(0%,0%,0%);fill-opacity:1;\">\n",
       "  <use x=\"200\" xlink:href=\"#glyph0-20\" y=\"200\"/>\n",
       "  <use x=\"205.571289\" xlink:href=\"#glyph0-11\" y=\"200\"/>\n",
       "  <use x=\"211.933594\" xlink:href=\"#glyph0-5\" y=\"200\"/>\n",
       "  <use x=\"214.711914\" xlink:href=\"#glyph0-8\" y=\"200\"/>\n",
       "  <use x=\"217.890625\" xlink:href=\"#glyph0-9\" y=\"200\"/>\n",
       "  <use x=\"221.791992\" xlink:href=\"#glyph0-10\" y=\"200\"/>\n",
       "  <use x=\"228.154297\" xlink:href=\"#glyph0-24\" y=\"200\"/>\n",
       "  <use x=\"234.516602\" xlink:href=\"#glyph0-23\" y=\"200\"/>\n",
       "  <use x=\"241.074219\" xlink:href=\"#glyph0-13\" y=\"200\"/>\n",
       "  <use x=\"247.93457\" xlink:href=\"#glyph0-14\" y=\"200\"/>\n",
       "</g>\n",
       "<path d=\"M 190 220 L 265 220 L 265 320 L 190 320 Z M 190 220 \" style=\"fill-rule:nonzero;fill:rgb(74.509805%,74.509805%,74.509805%);fill-opacity:1;stroke-width:1;stroke-linecap:butt;stroke-linejoin:miter;stroke:rgb(0%,0%,0%);stroke-opacity:1;stroke-miterlimit:10;\"/>\n",
       "<g style=\"fill:rgb(0%,0%,0%);fill-opacity:1;\">\n",
       "  <use x=\"200\" xlink:href=\"#glyph0-27\" y=\"240\"/>\n",
       "  <use x=\"206.982422\" xlink:href=\"#glyph0-28\" y=\"240\"/>\n",
       "  <use x=\"213.100586\" xlink:href=\"#glyph0-29\" y=\"240\"/>\n",
       "  <use x=\"217.211914\" xlink:href=\"#glyph0-7\" y=\"240\"/>\n",
       "  <use x=\"223.364258\" xlink:href=\"#glyph0-8\" y=\"240\"/>\n",
       "  <use x=\"226.542969\" xlink:href=\"#glyph0-15\" y=\"240\"/>\n",
       "  <use x=\"232.573242\" xlink:href=\"#glyph0-18\" y=\"240\"/>\n",
       "  <use x=\"240.952148\" xlink:href=\"#glyph0-24\" y=\"240\"/>\n",
       "</g>\n",
       "<path d=\"M 200 250 L 255 250 L 255 280 L 200 280 Z M 200 250 \" style=\"fill-rule:nonzero;fill:rgb(100%,100%,100%);fill-opacity:1;stroke-width:1;stroke-linecap:butt;stroke-linejoin:miter;stroke:rgb(0%,0%,0%);stroke-opacity:1;stroke-miterlimit:10;\"/>\n",
       "<g style=\"fill:rgb(0%,0%,0%);fill-opacity:1;\">\n",
       "  <use x=\"210\" xlink:href=\"#glyph0-15\" y=\"270\"/>\n",
       "  <use x=\"216.030273\" xlink:href=\"#glyph0-30\" y=\"270\"/>\n",
       "  <use x=\"223.349609\" xlink:href=\"#glyph0-8\" y=\"270\"/>\n",
       "  <use x=\"226.52832\" xlink:href=\"#glyph0-15\" y=\"270\"/>\n",
       "  <use x=\"232.558594\" xlink:href=\"#glyph0-18\" y=\"270\"/>\n",
       "  <use x=\"240.9375\" xlink:href=\"#glyph0-24\" y=\"270\"/>\n",
       "</g>\n",
       "<path d=\"M 200 280 L 255 280 L 255 310 L 200 310 Z M 200 280 \" style=\"fill-rule:nonzero;fill:rgb(100%,100%,100%);fill-opacity:1;stroke-width:1;stroke-linecap:butt;stroke-linejoin:miter;stroke:rgb(0%,0%,0%);stroke-opacity:1;stroke-miterlimit:10;\"/>\n",
       "<g style=\"fill:rgb(0%,0%,0%);fill-opacity:1;\">\n",
       "  <use x=\"210\" xlink:href=\"#glyph0-15\" y=\"300\"/>\n",
       "  <use x=\"216.030273\" xlink:href=\"#glyph0-30\" y=\"300\"/>\n",
       "  <use x=\"223.349609\" xlink:href=\"#glyph0-8\" y=\"300\"/>\n",
       "  <use x=\"226.52832\" xlink:href=\"#glyph0-15\" y=\"300\"/>\n",
       "  <use x=\"232.558594\" xlink:href=\"#glyph0-18\" y=\"300\"/>\n",
       "  <use x=\"240.9375\" xlink:href=\"#glyph0-21\" y=\"300\"/>\n",
       "</g>\n",
       "<path d=\"M 275 100 L 350 100 L 350 130 L 275 130 Z M 275 100 \" style=\"fill-rule:nonzero;fill:rgb(100%,100%,100%);fill-opacity:1;stroke-width:1;stroke-linecap:butt;stroke-linejoin:miter;stroke:rgb(0%,0%,0%);stroke-opacity:1;stroke-miterlimit:10;\"/>\n",
       "<g style=\"fill:rgb(0%,0%,0%);fill-opacity:1;\">\n",
       "  <use x=\"285\" xlink:href=\"#glyph0-20\" y=\"120\"/>\n",
       "  <use x=\"290.571289\" xlink:href=\"#glyph0-24\" y=\"120\"/>\n",
       "  <use x=\"296.933594\" xlink:href=\"#glyph0-8\" y=\"120\"/>\n",
       "  <use x=\"300.112305\" xlink:href=\"#glyph0-9\" y=\"120\"/>\n",
       "  <use x=\"304.013672\" xlink:href=\"#glyph0-24\" y=\"120\"/>\n",
       "  <use x=\"310.375977\" xlink:href=\"#glyph0-25\" y=\"120\"/>\n",
       "  <use x=\"316.738281\" xlink:href=\"#glyph0-21\" y=\"120\"/>\n",
       "  <use x=\"323.100586\" xlink:href=\"#glyph0-23\" y=\"120\"/>\n",
       "  <use x=\"329.658203\" xlink:href=\"#glyph0-13\" y=\"120\"/>\n",
       "  <use x=\"336.518555\" xlink:href=\"#glyph0-14\" y=\"120\"/>\n",
       "</g>\n",
       "<path d=\"M 275 140 L 350 140 L 350 170 L 275 170 Z M 275 140 \" style=\"fill-rule:nonzero;fill:rgb(100%,100%,100%);fill-opacity:1;stroke-width:1;stroke-linecap:butt;stroke-linejoin:miter;stroke:rgb(0%,0%,0%);stroke-opacity:1;stroke-miterlimit:10;\"/>\n",
       "<g style=\"fill:rgb(0%,0%,0%);fill-opacity:1;\">\n",
       "  <use x=\"285\" xlink:href=\"#glyph0-20\" y=\"160\"/>\n",
       "  <use x=\"290.571289\" xlink:href=\"#glyph0-11\" y=\"160\"/>\n",
       "  <use x=\"296.933594\" xlink:href=\"#glyph0-26\" y=\"160\"/>\n",
       "  <use x=\"303.28125\" xlink:href=\"#glyph0-8\" y=\"160\"/>\n",
       "  <use x=\"306.459961\" xlink:href=\"#glyph0-9\" y=\"160\"/>\n",
       "  <use x=\"310.361328\" xlink:href=\"#glyph0-10\" y=\"160\"/>\n",
       "  <use x=\"316.723633\" xlink:href=\"#glyph0-24\" y=\"160\"/>\n",
       "  <use x=\"323.085938\" xlink:href=\"#glyph0-23\" y=\"160\"/>\n",
       "  <use x=\"329.643555\" xlink:href=\"#glyph0-13\" y=\"160\"/>\n",
       "  <use x=\"336.503906\" xlink:href=\"#glyph0-14\" y=\"160\"/>\n",
       "</g>\n",
       "<path d=\"M 275 180 L 350 180 L 350 210 L 275 210 Z M 275 180 \" style=\"fill-rule:nonzero;fill:rgb(100%,100%,100%);fill-opacity:1;stroke-width:1;stroke-linecap:butt;stroke-linejoin:miter;stroke:rgb(0%,0%,0%);stroke-opacity:1;stroke-miterlimit:10;\"/>\n",
       "<g style=\"fill:rgb(0%,0%,0%);fill-opacity:1;\">\n",
       "  <use x=\"285\" xlink:href=\"#glyph0-20\" y=\"200\"/>\n",
       "  <use x=\"290.571289\" xlink:href=\"#glyph0-11\" y=\"200\"/>\n",
       "  <use x=\"296.933594\" xlink:href=\"#glyph0-5\" y=\"200\"/>\n",
       "  <use x=\"299.711914\" xlink:href=\"#glyph0-8\" y=\"200\"/>\n",
       "  <use x=\"302.890625\" xlink:href=\"#glyph0-9\" y=\"200\"/>\n",
       "  <use x=\"306.791992\" xlink:href=\"#glyph0-10\" y=\"200\"/>\n",
       "  <use x=\"313.154297\" xlink:href=\"#glyph0-24\" y=\"200\"/>\n",
       "  <use x=\"319.516602\" xlink:href=\"#glyph0-23\" y=\"200\"/>\n",
       "  <use x=\"326.074219\" xlink:href=\"#glyph0-13\" y=\"200\"/>\n",
       "  <use x=\"332.93457\" xlink:href=\"#glyph0-14\" y=\"200\"/>\n",
       "</g>\n",
       "<path d=\"M 275 220 L 350 220 L 350 320 L 275 320 Z M 275 220 \" style=\"fill-rule:nonzero;fill:rgb(74.509805%,74.509805%,74.509805%);fill-opacity:1;stroke-width:1;stroke-linecap:butt;stroke-linejoin:miter;stroke:rgb(0%,0%,0%);stroke-opacity:1;stroke-miterlimit:10;\"/>\n",
       "<g style=\"fill:rgb(0%,0%,0%);fill-opacity:1;\">\n",
       "  <use x=\"285\" xlink:href=\"#glyph0-27\" y=\"240\"/>\n",
       "  <use x=\"291.982422\" xlink:href=\"#glyph0-28\" y=\"240\"/>\n",
       "  <use x=\"298.100586\" xlink:href=\"#glyph0-29\" y=\"240\"/>\n",
       "  <use x=\"302.211914\" xlink:href=\"#glyph0-7\" y=\"240\"/>\n",
       "  <use x=\"308.364258\" xlink:href=\"#glyph0-8\" y=\"240\"/>\n",
       "  <use x=\"311.542969\" xlink:href=\"#glyph0-15\" y=\"240\"/>\n",
       "  <use x=\"317.573242\" xlink:href=\"#glyph0-18\" y=\"240\"/>\n",
       "  <use x=\"325.952148\" xlink:href=\"#glyph0-10\" y=\"240\"/>\n",
       "</g>\n",
       "<path d=\"M 285 250 L 340 250 L 340 280 L 285 280 Z M 285 250 \" style=\"fill-rule:nonzero;fill:rgb(100%,100%,100%);fill-opacity:1;stroke-width:1;stroke-linecap:butt;stroke-linejoin:miter;stroke:rgb(0%,0%,0%);stroke-opacity:1;stroke-miterlimit:10;\"/>\n",
       "<g style=\"fill:rgb(0%,0%,0%);fill-opacity:1;\">\n",
       "  <use x=\"295\" xlink:href=\"#glyph0-15\" y=\"270\"/>\n",
       "  <use x=\"301.030273\" xlink:href=\"#glyph0-30\" y=\"270\"/>\n",
       "  <use x=\"308.349609\" xlink:href=\"#glyph0-8\" y=\"270\"/>\n",
       "  <use x=\"311.52832\" xlink:href=\"#glyph0-15\" y=\"270\"/>\n",
       "  <use x=\"317.558594\" xlink:href=\"#glyph0-18\" y=\"270\"/>\n",
       "  <use x=\"325.9375\" xlink:href=\"#glyph0-10\" y=\"270\"/>\n",
       "</g>\n",
       "<path d=\"M 285 280 L 340 280 L 340 310 L 285 310 Z M 285 280 \" style=\"fill-rule:nonzero;fill:rgb(100%,100%,100%);fill-opacity:1;stroke-width:1;stroke-linecap:butt;stroke-linejoin:miter;stroke:rgb(0%,0%,0%);stroke-opacity:1;stroke-miterlimit:10;\"/>\n",
       "<g style=\"fill:rgb(0%,0%,0%);fill-opacity:1;\">\n",
       "  <use x=\"295\" xlink:href=\"#glyph0-15\" y=\"300\"/>\n",
       "  <use x=\"301.030273\" xlink:href=\"#glyph0-30\" y=\"300\"/>\n",
       "  <use x=\"308.349609\" xlink:href=\"#glyph0-8\" y=\"300\"/>\n",
       "  <use x=\"311.52832\" xlink:href=\"#glyph0-15\" y=\"300\"/>\n",
       "  <use x=\"317.558594\" xlink:href=\"#glyph0-18\" y=\"300\"/>\n",
       "  <use x=\"325.9375\" xlink:href=\"#glyph0-31\" y=\"300\"/>\n",
       "</g>\n",
       "<path d=\"M 0 340 L 370 340 L 370 410 L 0 410 Z M 0 340 \" style=\"fill-rule:nonzero;fill:rgb(100%,100%,100%);fill-opacity:1;stroke-width:1;stroke-linecap:butt;stroke-linejoin:miter;stroke:rgb(0%,0%,0%);stroke-opacity:1;stroke-miterlimit:10;\"/>\n",
       "<g style=\"fill:rgb(0%,0%,0%);fill-opacity:1;\">\n",
       "  <use x=\"10\" xlink:href=\"#glyph0-32\" y=\"360\"/>\n",
       "  <use x=\"17.519531\" xlink:href=\"#glyph0-28\" y=\"360\"/>\n",
       "  <use x=\"23.637695\" xlink:href=\"#glyph0-33\" y=\"360\"/>\n",
       "  <use x=\"28.847656\" xlink:href=\"#glyph0-34\" y=\"360\"/>\n",
       "  <use x=\"32.768555\" xlink:href=\"#glyph0-35\" y=\"360\"/>\n",
       "  <use x=\"36.137695\" xlink:href=\"#glyph0-8\" y=\"360\"/>\n",
       "  <use x=\"39.316406\" xlink:href=\"#glyph0-2\" y=\"360\"/>\n",
       "  <use x=\"45.444336\" xlink:href=\"#glyph0-3\" y=\"360\"/>\n",
       "  <use x=\"50.942383\" xlink:href=\"#glyph0-2\" y=\"360\"/>\n",
       "  <use x=\"57.070312\" xlink:href=\"#glyph0-5\" y=\"360\"/>\n",
       "</g>\n",
       "<g style=\"fill:rgb(0%,0%,0%);fill-opacity:1;\">\n",
       "  <use x=\"10\" xlink:href=\"#glyph0-36\" y=\"380\"/>\n",
       "  <use x=\"12.949219\" xlink:href=\"#glyph0-6\" y=\"380\"/>\n",
       "  <use x=\"19.287109\" xlink:href=\"#glyph0-26\" y=\"380\"/>\n",
       "  <use x=\"25.634766\" xlink:href=\"#glyph0-7\" y=\"380\"/>\n",
       "  <use x=\"31.787109\" xlink:href=\"#glyph0-37\" y=\"380\"/>\n",
       "  <use x=\"37.705078\" xlink:href=\"#glyph0-7\" y=\"380\"/>\n",
       "  <use x=\"43.857422\" xlink:href=\"#glyph0-33\" y=\"380\"/>\n",
       "  <use x=\"49.067383\" xlink:href=\"#glyph0-35\" y=\"380\"/>\n",
       "  <use x=\"52.436523\" xlink:href=\"#glyph0-8\" y=\"380\"/>\n",
       "  <use x=\"55.615234\" xlink:href=\"#glyph0-38\" y=\"380\"/>\n",
       "  <use x=\"61.962891\" xlink:href=\"#glyph0-4\" y=\"380\"/>\n",
       "  <use x=\"68.300781\" xlink:href=\"#glyph0-39\" y=\"380\"/>\n",
       "  <use x=\"74.21875\" xlink:href=\"#glyph0-33\" y=\"380\"/>\n",
       "  <use x=\"79.428711\" xlink:href=\"#glyph0-5\" y=\"380\"/>\n",
       "  <use x=\"82.207031\" xlink:href=\"#glyph0-3\" y=\"380\"/>\n",
       "  <use x=\"87.705078\" xlink:href=\"#glyph0-2\" y=\"380\"/>\n",
       "  <use x=\"93.833008\" xlink:href=\"#glyph0-40\" y=\"380\"/>\n",
       "</g>\n",
       "<g style=\"fill:rgb(0%,0%,0%);fill-opacity:1;\">\n",
       "  <use x=\"10\" xlink:href=\"#glyph0-41\" y=\"400\"/>\n",
       "  <use x=\"17.700195\" xlink:href=\"#glyph0-2\" y=\"400\"/>\n",
       "  <use x=\"23.828125\" xlink:href=\"#glyph0-34\" y=\"400\"/>\n",
       "  <use x=\"27.749023\" xlink:href=\"#glyph0-7\" y=\"400\"/>\n",
       "  <use x=\"33.901367\" xlink:href=\"#glyph0-35\" y=\"400\"/>\n",
       "  <use x=\"37.270508\" xlink:href=\"#glyph0-8\" y=\"400\"/>\n",
       "  <use x=\"40.449219\" xlink:href=\"#glyph0-42\" y=\"400\"/>\n",
       "  <use x=\"50.336914\" xlink:href=\"#glyph0-7\" y=\"400\"/>\n",
       "  <use x=\"56.489258\" xlink:href=\"#glyph0-26\" y=\"400\"/>\n",
       "  <use x=\"62.836914\" xlink:href=\"#glyph0-8\" y=\"400\"/>\n",
       "  <use x=\"66.015625\" xlink:href=\"#glyph0-24\" y=\"400\"/>\n",
       "  <use x=\"72.37793\" xlink:href=\"#glyph0-43\" y=\"400\"/>\n",
       "  <use x=\"78.740234\" xlink:href=\"#glyph0-8\" y=\"400\"/>\n",
       "  <use x=\"81.918945\" xlink:href=\"#glyph0-1\" y=\"400\"/>\n",
       "  <use x=\"90.546875\" xlink:href=\"#glyph0-2\" y=\"400\"/>\n",
       "  <use x=\"96.674805\" xlink:href=\"#glyph0-29\" y=\"400\"/>\n",
       "  <use x=\"100.786133\" xlink:href=\"#glyph0-8\" y=\"400\"/>\n",
       "  <use x=\"103.964844\" xlink:href=\"#glyph0-24\" y=\"400\"/>\n",
       "  <use x=\"110.327148\" xlink:href=\"#glyph0-19\" y=\"400\"/>\n",
       "  <use x=\"116.689453\" xlink:href=\"#glyph0-11\" y=\"400\"/>\n",
       "  <use x=\"123.051758\" xlink:href=\"#glyph0-43\" y=\"400\"/>\n",
       "  <use x=\"129.414062\" xlink:href=\"#glyph0-8\" y=\"400\"/>\n",
       "  <use x=\"132.592773\" xlink:href=\"#glyph0-11\" y=\"400\"/>\n",
       "  <use x=\"138.955078\" xlink:href=\"#glyph0-31\" y=\"400\"/>\n",
       "  <use x=\"145.317383\" xlink:href=\"#glyph0-35\" y=\"400\"/>\n",
       "  <use x=\"148.686523\" xlink:href=\"#glyph0-10\" y=\"400\"/>\n",
       "  <use x=\"155.048828\" xlink:href=\"#glyph0-11\" y=\"400\"/>\n",
       "  <use x=\"161.411133\" xlink:href=\"#glyph0-35\" y=\"400\"/>\n",
       "  <use x=\"164.780273\" xlink:href=\"#glyph0-10\" y=\"400\"/>\n",
       "  <use x=\"171.142578\" xlink:href=\"#glyph0-21\" y=\"400\"/>\n",
       "  <use x=\"177.504883\" xlink:href=\"#glyph0-8\" y=\"400\"/>\n",
       "  <use x=\"180.683594\" xlink:href=\"#glyph0-13\" y=\"400\"/>\n",
       "  <use x=\"187.543945\" xlink:href=\"#glyph0-44\" y=\"400\"/>\n",
       "  <use x=\"193.891602\" xlink:href=\"#glyph0-45\" y=\"400\"/>\n",
       "</g>\n",
       "</g>\n",
       "</svg>"
      ],
      "text/plain": [
       "<IPython.core.display.SVG object>"
      ]
     },
     "execution_count": 8,
     "metadata": {},
     "output_type": "execute_result"
    }
   ],
   "source": [
    "tmp = os.path.join(os.sep, \n",
    "                   os.environ['TMPDIR'] if 'TMPDIR' in os.environ else 'tmp',\n",
    "                   str(os.getpid()))\n",
    "!lstopo --no-io --no-bridges --output-format svg -f {tmp}\n",
    "with open(tmp, 'r') as svg_file:\n",
    "    svg = svg_file.read()\n",
    "SVG(svg);"
   ]
  },
  {
   "cell_type": "markdown",
   "metadata": {},
   "source": [
    "## So what else can use the MKL for multithreaded linear algebra?"
   ]
  },
  {
   "cell_type": "markdown",
   "metadata": {},
   "source": [
    "A variety of Python packages distributed using conda can use the MKL for multithreaded linear algebra, either by depending on numpy to talk to the MKL or by using the MKL directly.  \n",
    "\n",
    "The scipy package, for example, can use the MKL to accelerate more involved operations such as [singular value decomposition](https://en.wikipedia.org/wiki/Singular-value_decomposition) (a means for factorising a real- or complex-valued matrix):"
   ]
  },
  {
   "cell_type": "code",
   "execution_count": 9,
   "metadata": {},
   "outputs": [
    {
     "name": "stdout",
     "output_type": "stream",
     "text": [
      "Thread count: 1 -> 211 ms ± 3.87 ms per loop (mean ± std. dev. of 7 runs, 5 loops each)\n",
      "Thread count: 2 -> 124 ms ± 4.55 ms per loop (mean ± std. dev. of 7 runs, 5 loops each)\n",
      "Thread count: 3 -> 101 ms ± 1.71 ms per loop (mean ± std. dev. of 7 runs, 5 loops each)\n",
      "Thread count: 4 -> 86.3 ms ± 2.67 ms per loop (mean ± std. dev. of 7 runs, 5 loops each)\n"
     ]
    }
   ],
   "source": [
    "z = np.random.random_sample((1500, 500))\n",
    "\n",
    "thread_cnts = np.arange(1, 5)\n",
    "timings_mean = []\n",
    "timings_stdev = []\n",
    "\n",
    "for i in thread_cnts:\n",
    "    mkl.set_num_threads(i)\n",
    "    print(\"Thread count: {}\".format(i), end=\" -> \")\n",
    "    timings = %timeit -n 5 -o scipy.linalg.svd(z)\n",
    "    timings_mean.append(timings.average)\n",
    "    timings_stdev.append(timings.stdev)"
   ]
  },
  {
   "cell_type": "markdown",
   "metadata": {},
   "source": [
    "Again, speedup is far from linear with the number of cores but there is value in using multiple cores with this size of problem.   \n",
    "\n",
    "Above, we discussed how we don't benefit from having more threads than cores (at least for numerical problems).  Here we demonstrate that we get no further benefit from increasing the number of threads beyond the number of available CPU cores:     "
   ]
  },
  {
   "cell_type": "code",
   "execution_count": 10,
   "metadata": {},
   "outputs": [
    {
     "name": "stdout",
     "output_type": "stream",
     "text": [
      "Thread count: 1 -> 209 ms ± 9.78 ms per loop (mean ± std. dev. of 7 runs, 1 loop each)\n",
      "Thread count: 2 -> 126 ms ± 6.15 ms per loop (mean ± std. dev. of 7 runs, 1 loop each)\n",
      "Thread count: 4 -> 88.9 ms ± 4.98 ms per loop (mean ± std. dev. of 7 runs, 1 loop each)\n",
      "Thread count: 8 -> 85.8 ms ± 4.17 ms per loop (mean ± std. dev. of 7 runs, 1 loop each)\n",
      "Thread count: 16 -> 85.6 ms ± 5.7 ms per loop (mean ± std. dev. of 7 runs, 1 loop each)\n",
      "Thread count: 32 -> 85.4 ms ± 4.35 ms per loop (mean ± std. dev. of 7 runs, 1 loop each)\n"
     ]
    }
   ],
   "source": [
    "z = np.random.random_sample((1500, 500))\n",
    "\n",
    "thread_cnts = np.power(2, range(6))\n",
    "timings_mean = []\n",
    "timings_stdev = []\n",
    "\n",
    "for i in thread_cnts:\n",
    "    print(\"Thread count: {}\".format(i), end=\" -> \")\n",
    "    mkl.set_num_threads(i)\n",
    "    timings = %timeit -n1 -o scipy.linalg.svd(z)\n",
    "    timings_mean.append(timings.average)\n",
    "    timings_stdev.append(timings.stdev)"
   ]
  },
  {
   "cell_type": "markdown",
   "metadata": {},
   "source": [
    "As you can see, in this case we actually get a performance regression when we go beyond the number of cores available in the machine. "
   ]
  },
  {
   "cell_type": "markdown",
   "metadata": {},
   "source": [
    "## Accelerating FFTs using pyfftw and multiple threads"
   ]
  },
  {
   "cell_type": "markdown",
   "metadata": {},
   "source": [
    "As we've seen, numpy can use the Intel MKL for multi-threaded linear algebra operations. \n",
    "The MKL also includes [fast Fourier transform][fft-wikipedia] (FFT) functions\n",
    "that can also use multiple threads and therefore multiple cores for distributing work.  \n",
    "However, although the numpy FFT functions can use the MKL for FFT calculations \n",
    "the MKL is not called in a way that allows multiple threads to be used efficiently \n",
    "(see [this blog post][numpy-mkl-fft-blog]).\n",
    "\n",
    "Let's use this an opportunity to explore how a different Python package, [pyfftw][pyfftw], uses a different compiled library, [FFTW][fftw], to provide efficient multithreaded FFT functions.  FFTW is a very widely used and mature FFT library that can calculate 1D, 2D and 3D forward and inverse FFTs. \n",
    "\n",
    "Note: here we use pyfftw's native and most efficient way of calculating FFTs, which involves preallocating input and output arrays then generating then evaluating a execution plan.  If you want a more concise way of using pyfftw that presents an interface that very closely mirrors the FFT-related parts of the numpy API then see `pyfftw.interfaces.numpy_fft.fft` and/or `pyfftw.builders.fft`.\n",
    "\n",
    "[fft-wikipedia]: (https://en.wikipedia.org/wiki/Fast_Fourier_transform)\n",
    "[numpy-mkl-fft-blog]: http://rse.shef.ac.uk/blog/numpy-mkl-fft/\n",
    "[pyfftw]: https://hgomersall.github.io/pyFFTW/\n",
    "[fftw]: http://fftw.org"
   ]
  },
  {
   "cell_type": "code",
   "execution_count": 11,
   "metadata": {},
   "outputs": [],
   "source": [
    "# Size of 3D FFT input\n",
    "size = (1024, 1024, 128)\n",
    "\n",
    "# Preallocate a 2GB array of complex values for storing randomly generated input data.\n",
    "# This preallocation allows the array to be 'aligned' in memory in a way that offers \n",
    "# best performance on hardware with SIMD support (e.g. with AVX support; see mention of SIMD in the next section)\n",
    "a = pyfftw.empty_aligned(size, dtype='complex128')\n",
    "out = pyfftw.empty_aligned(size, dtype='complex128')\n",
    "\n",
    "# Randomly generate the real and imaginary components of our 3D FFT input\n",
    "a[:] = np.random.randn(*size) + (1j * np.random.randn(*size))"
   ]
  },
  {
   "cell_type": "code",
   "execution_count": 12,
   "metadata": {},
   "outputs": [
    {
     "name": "stdout",
     "output_type": "stream",
     "text": [
      "530 ms ± 28.2 ms per loop (mean ± std. dev. of 7 runs, 1 loop each)\n",
      "300 ms ± 3.48 ms per loop (mean ± std. dev. of 7 runs, 1 loop each)\n",
      "249 ms ± 1.62 ms per loop (mean ± std. dev. of 7 runs, 1 loop each)\n",
      "252 ms ± 3.58 ms per loop (mean ± std. dev. of 7 runs, 1 loop each)\n"
     ]
    },
    {
     "data": {
      "image/png": "[encoded data removed]",
      "text/plain": [
       "<Figure size 432x288 with 1 Axes>"
      ]
     },
     "metadata": {},
     "output_type": "display_data"
    }
   ],
   "source": [
    "# To store timings for the FFT calculations\n",
    "timings_mean = []\n",
    "timings_stdev = []\n",
    "\n",
    "# Range of thread counts for which to measure performance\n",
    "thread_cnts = np.arange(1, 5)\n",
    "\n",
    "for i in thread_cnts:\n",
    "    # Constructs a plan for how to calculate the FFT efficiently given the input data type and size \n",
    "    # Note that we're not timing this setup function\n",
    "    fft_plan = pyfftw.FFTW(a, out, threads=i) \n",
    "    \n",
    "    # Time the FFT calculation\n",
    "    timings = %timeit -o fft_plan.execute()\n",
    "\n",
    "    timings_mean.append(timings.average)\n",
    "    timings_stdev.append(timings.stdev)\n",
    "    \n",
    "# Plot the results\n",
    "fig, ax = plt.subplots()\n",
    "ax.errorbar(thread_cnts, timings_mean, yerr=timings_stdev, fmt='x')\n",
    "ax.set_xticks(thread_cnts)\n",
    "ax.set_xticklabels(thread_cnts)\n",
    "ax.set_xlabel('# cores')\n",
    "ax.set_ylabel('Runtime [ms]');\n",
    "ax.set_ylim(ymin=0);\n",
    "\n",
    "# Free memory\n",
    "del a, out"
   ]
  },
  {
   "cell_type": "markdown",
   "metadata": {},
   "source": [
    "Note that for this 3D 2GiB matrix of complex values the forward FFT scaling doesn't improve much beyond a couple of cores.\n",
    "\n",
    "**TODO**: WHY IS THIS?  If you re-run the above two cells after setting `size` in the first cell so that \n",
    "\n",
    "```\n",
    "size = (1024 * 1024 * 128, )\n",
    "```\n",
    "\n",
    "so as to use 1D inputs and outputs then there's a bit better scaling as you move from 2 to 3 cores."
   ]
  },
  {
   "cell_type": "markdown",
   "metadata": {},
   "source": [
    "## Using the MKL on CPUs that can accelerate certain operations "
   ]
  },
  {
   "cell_type": "markdown",
   "metadata": {},
   "source": [
    "Another easy win when it comes to performance is making sure that you use the MKL on CPU(s) that have:\n",
    "\n",
    "* Support for atomically applying the same operation to vectors of values ('Single Instruction Multiple Data' (SIMD) hardware vectorisation) using some flavour of Intel's [Advanced Vector Extensions][avx] (AVX). \n",
    "* Support for atomically multiplying two values and adding them to an 'accumulator' CPU [register][cpu-reg] (storage location on the CPU).  This CPU instruction, known as [fused multiply-add][fma] (FMA), can help speed up matrix multiplication as that operation consists entirely of sums of multiplications.  \n",
    "\n",
    "You can get additional performance out of many libraries, not just the MKL, if they are able to use AVX and/or FMA.  With AVX this typically requires that software is written and compiled so that it is AVX-aware but the MKL is able to just detect and use AVX and FMA at execution time, making life much easier for the numpy user.  \n",
    "\n",
    "The CPUs in the ShARC cluster at the University of Sheffield have both AVX2 and FMA support. You can check if you have AVX and/or FMA support using the [cpuinfo][cpuinfo] Python package:\n",
    "\n",
    "[avx]: https://en.wikipedia.org/wiki/Advanced_Vector_Extensions\n",
    "[cpu-reg]: https://en.wikipedia.org/wiki/Processor_register\n",
    "[fma]: https://en.wikipedia.org/wiki/Multiply%E2%80%93accumulate_operation#Fused_multiply%E2%80%93add\n",
    "[cpuinfo]: https://github.com/workhorsy/py-cpuinfo"
   ]
  },
  {
   "cell_type": "code",
   "execution_count": 13,
   "metadata": {},
   "outputs": [
    {
     "data": {
      "text/plain": [
       "{'avx', 'avx2', 'fma'}"
      ]
     },
     "execution_count": 13,
     "metadata": {},
     "output_type": "execute_result"
    }
   ],
   "source": [
    "cpu_features = cpuinfo.get_cpu_info()['flags']\n",
    "set(cpu_features).intersection(set(('fma', 'avx', 'avx2', 'avx512')))"
   ]
  },
  {
   "cell_type": "markdown",
   "metadata": {},
   "source": [
    "or from the command-line:"
   ]
  },
  {
   "cell_type": "code",
   "execution_count": 14,
   "metadata": {},
   "outputs": [
    {
     "name": "stdout",
     "output_type": "stream",
     "text": [
      " avx \r\n",
      " avx2 \r\n",
      " fma \r\n"
     ]
    }
   ],
   "source": [
    "!grep -oE '\\W(fma|avx|avx2)\\W' /proc/cpuinfo | sort | uniq"
   ]
  },
  {
   "cell_type": "markdown",
   "metadata": {},
   "source": [
    "*Jupyter Tip: if a line in a code cell starts with `!` then the rest of the line is run in a shell, not executed as Python code.*"
   ]
  },
  {
   "cell_type": "markdown",
   "metadata": {},
   "source": [
    "# MOVE ELSEWHERE\n",
    "\n",
    "**TODO**: Useful for looking at effect of oversubscription and for parameterising thread ranges?  Only if output is limited by cgroups/cpusets - NO! TODO: check on ShARC.  Todo: explain hardware threads, hyperthreading, physical cores per socket, sockets, numactl"
   ]
  },
  {
   "cell_type": "code",
   "execution_count": 55,
   "metadata": {},
   "outputs": [
    {
     "data": {
      "text/plain": [
       "4"
      ]
     },
     "execution_count": 55,
     "metadata": {},
     "output_type": "execute_result"
    }
   ],
   "source": [
    "def get_phys_cores():\n",
    "    hardware_threads = cpuinfo.get_cpu_info()['count'] \n",
    "    if 'ht' in cpuinfo.get_cpu_info()['flags']:\n",
    "        cores = int(hardware_threads / 2)\n",
    "    else:\n",
    "        cores = hardware_threads\n",
    "    return cores\n",
    "\n",
    "phys_cores = get_phys_cores()\n",
    "phys_cores"
   ]
  },
  {
   "cell_type": "code",
   "execution_count": 18,
   "metadata": {},
   "outputs": [
    {
     "name": "stdout",
     "output_type": "stream",
     "text": [
      "8, 4\n"
     ]
    }
   ],
   "source": [
    "%%bash \n",
    "hardware_threads=$(grep -Ec '^processor\\W' /proc/cpuinfo)\n",
    "if grep -Eq '^flags.*\\Wht\\W' /proc/cpuinfo; then\n",
    "    phys_cores=$((hardware_threads / 2))\n",
    "else\n",
    "    phys_cores=$hardware_threads\n",
    "fi\n",
    "echo $hardware_threads, $phys_cores"
   ]
  },
  {
   "cell_type": "code",
   "execution_count": 25,
   "metadata": {},
   "outputs": [
    {
     "name": "stdout",
     "output_type": "stream",
     "text": [
      "pid 12995's current affinity list: 0-7\n"
     ]
    }
   ],
   "source": [
    "%%bash\n",
    "# Shows all hardware threads, not physical cores\n",
    "taskset -pac $$"
   ]
  },
  {
   "cell_type": "code",
   "execution_count": 66,
   "metadata": {},
   "outputs": [
    {
     "ename": "TypeError",
     "evalue": "a bytes-like object is required, not 'str'",
     "output_type": "error",
     "traceback": [
      "\u001b[0;31m---------------------------------------------------------------------------\u001b[0m",
      "\u001b[0;31mTypeError\u001b[0m                                 Traceback (most recent call last)",
      "\u001b[0;32m<ipython-input-66-bd18f08e19a8>\u001b[0m in \u001b[0;36m<module>\u001b[0;34m()\u001b[0m\n\u001b[1;32m      2\u001b[0m \u001b[0;31m# Show just physical cores (restricted by cgroup!)\u001b[0m\u001b[0;34m\u001b[0m\u001b[0;34m\u001b[0m\u001b[0m\n\u001b[1;32m      3\u001b[0m \u001b[0;32mimport\u001b[0m \u001b[0msubprocess\u001b[0m\u001b[0;34m\u001b[0m\u001b[0m\n\u001b[0;32m----> 4\u001b[0;31m \u001b[0msubprocess\u001b[0m\u001b[0;34m.\u001b[0m\u001b[0mcheck_output\u001b[0m\u001b[0;34m(\u001b[0m\u001b[0;34m'lstopo --only cores'\u001b[0m\u001b[0;34m.\u001b[0m\u001b[0msplit\u001b[0m\u001b[0;34m(\u001b[0m\u001b[0;34m)\u001b[0m\u001b[0;34m)\u001b[0m\u001b[0;34m.\u001b[0m\u001b[0msplit\u001b[0m\u001b[0;34m(\u001b[0m\u001b[0mos\u001b[0m\u001b[0;34m.\u001b[0m\u001b[0msep\u001b[0m\u001b[0;34m)\u001b[0m\u001b[0;34m\u001b[0m\u001b[0m\n\u001b[0m\u001b[1;32m      5\u001b[0m \u001b[0;34m\u001b[0m\u001b[0m\n\u001b[1;32m      6\u001b[0m \u001b[0;31m#avail_phys_cores = int((!lstopo --only cores | wc -l)\u001b[0m\u001b[0;34m\u001b[0m\u001b[0;34m\u001b[0m\u001b[0m\n",
      "\u001b[0;31mTypeError\u001b[0m: a bytes-like object is required, not 'str'"
     ]
    }
   ],
   "source": [
    "\n",
    "# Show just physical cores (restricted by cgroup!)\n",
    "import subprocess\n",
    "subprocess.check_output('lstopo --only cores'.split()).split(os.sep)\n",
    "\n",
    "#avail_phys_cores = int((!lstopo --only cores | wc -l) \n",
    "#avail_phys_cores"
   ]
  },
  {
   "cell_type": "code",
   "execution_count": 27,
   "metadata": {},
   "outputs": [
    {
     "name": "stdout",
     "output_type": "stream",
     "text": [
      "PU L#0 (P#0)\n",
      "PU L#1 (P#4)\n",
      "PU L#2 (P#1)\n",
      "PU L#3 (P#5)\n",
      "PU L#4 (P#2)\n",
      "PU L#5 (P#6)\n",
      "PU L#6 (P#3)\n",
      "PU L#7 (P#7)\n"
     ]
    }
   ],
   "source": [
    "%%bash\n",
    "# Show hardware threads (restricted by cgroup!)\n",
    "lstopo --only pu"
   ]
  },
  {
   "cell_type": "code",
   "execution_count": null,
   "metadata": {},
   "outputs": [],
   "source": []
  }
 ],
 "metadata": {
  "kernelspec": {
   "display_name": "Python 3",
   "language": "python",
   "name": "python3"
  },
  "language_info": {
   "codemirror_mode": {
    "name": "ipython",
    "version": 3
   },
   "file_extension": ".py",
   "mimetype": "text/x-python",
   "name": "python",
   "nbconvert_exporter": "python",
   "pygments_lexer": "ipython3",
   "version": "3.6.4"
  }
 },
 "nbformat": 4,
 "nbformat_minor": 2
}
