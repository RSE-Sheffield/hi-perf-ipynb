{
 "cells": [
  {
   "cell_type": "markdown",
   "metadata": {},
   "source": [
    "# Flavours of parallelism plus multithreading using the MKL"
   ]
  },
  {
   "cell_type": "markdown",
   "metadata": {},
   "source": [
    "Covers: - multithreaded linear algebra with Numpy+MKL (easy win)\n",
    "\n",
    "* ?"
   ]
  },
  {
   "cell_type": "markdown",
   "metadata": {},
   "source": [
    "SPEEDING THINGS UP:\n",
    "- USED TO HAVE UPWARD TREND IN SPEED AT WHICH PROCESSORS COULD PROCESS INSTRUCTIONS ('CLOCK SPEED')\n",
    "- LITTLE IMPROVEMENT IN THIS 'CLOCK SPEED' IN RECENT YEARS.\n",
    "- SO HOW CAN WE MAKE OUR CODE GO FASTER?  CAN'T BUY SIGNIFICANTLY FASTER PROCESSOR FOR LOVE NOR MONEY.\n",
    "- ONE APPROACH IS TO DO MULTIPLE CHUNKS OF WORK AT ONCE.  \n",
    "  - DISTRIBUTE WORK BETWEEN PROCESSING CORES OF ONE OR MORE CPUS IN ONE MACHINE\n",
    "  - DISTRIBUTE WORK BETWEEN CPU CORES IN MULTIPLE MACHINES\n",
    "\n",
    "TYPES OF PARALLELISM \n",
    "- SHARED MEM VS DISTRIBUTED MEM (DIAGS)\n",
    "- SHARED MEM: SINGLE PROC, MULT THREADS, SINGLE GLOBAL ADDRESS SPACE.  ONE NODE.\n",
    "- DISTR MEM: MULT PROC, EACH HAS ONE (OR MORE?) THREADS, ADDRESS SPACE PER PROCESSOR, ONE OR MORE NODES.  PROCS COMMUNICATE BY PASSING MESSAGES WITHIN MACHINE / BETWEEN MACHINES.\n",
    "- PYTHON CAN ONLY EFFICIENTLY HANDLE DISTRIBUTED MEM PARALLELISATION AS TWO PYTHON THREADS CANNOT DO COMPUTATION AT THE SAME TIME DUE TO DESIGN OF PYTHON INTERPRETER. "
   ]
  },
  {
   "cell_type": "markdown",
   "metadata": {},
   "source": [
    "EASE OF PARALLELISING PROBLEMS\n",
    "- SIMPLEST IF PARALLEL TASKS ARE INDEPENDENT (NO COMMUNICATION BETWEEN TASKS WHILST RUNNING) - EMBARASSINGLY PARALLEL\n",
    "- THINGS GET MORE COMPLEX IF TASKS NEED TO COMMUNICATE.  NATURE OF COMPLEXITY DIFFERS FOR SM VS DM. \n",
    "\n",
    "\n",
    "\n",
    "\n",
    "\n",
    "WHAT IS MKL?\n",
    "WHAT IS BLAS/LAPACK?\n",
    "WHY USEFUL FOR NUMPY?\n",
    "NB NEED TO USE CONDA TO GET MKL-AWARE NUMPY\n",
    "\n",
    "NB APOLOGIES IF YOU DON'T DO MUCH WORK WITH ARRAYS/MATRICES - FOLLOWING MAY NOT BE OF INTEREST!"
   ]
  },
  {
   "cell_type": "code",
   "execution_count": 68,
   "metadata": {},
   "outputs": [],
   "source": [
    "import os\n",
    "import numpy as np\n",
    "import scipy.linalg\n",
    "import matplotlib.pyplot as plt\n",
    "import mkl  # provided by mkl-service package\n",
    "\n",
    "plt.style.use('ggplot')\n",
    "%matplotlib inline"
   ]
  },
  {
   "cell_type": "code",
   "execution_count": 58,
   "metadata": {},
   "outputs": [
    {
     "data": {
      "text/plain": [
       "array([[0.29827115, 0.01257549, 0.85900668, 0.4135302 , 0.94120785],\n",
       "       [0.46164421, 0.85249818, 0.95709111, 0.63019117, 0.56369667],\n",
       "       [0.21856467, 0.08446137, 0.75837615, 0.07405838, 0.95380444],\n",
       "       [0.94157857, 0.83879875, 0.33514032, 0.33935266, 0.29757601],\n",
       "       [0.58183237, 0.88760404, 0.15726526, 0.38853611, 0.37466679]])"
      ]
     },
     "execution_count": 58,
     "metadata": {},
     "output_type": "execute_result"
    }
   ],
   "source": [
    "x = np.random.random_sample((1000, 1000))\n",
    "y = np.random.random_sample((1000, 1000))\n",
    "x[:5, :5]"
   ]
  },
  {
   "cell_type": "code",
   "execution_count": 60,
   "metadata": {},
   "outputs": [
    {
     "name": "stdout",
     "output_type": "stream",
     "text": [
      "40.5 ms ± 383 µs per loop (mean ± std. dev. of 7 runs, 10 loops each)\n",
      "22.4 ms ± 103 µs per loop (mean ± std. dev. of 7 runs, 10 loops each)\n",
      "16.5 ms ± 460 µs per loop (mean ± std. dev. of 7 runs, 100 loops each)\n",
      "13.9 ms ± 95.5 µs per loop (mean ± std. dev. of 7 runs, 100 loops each)\n"
     ]
    }
   ],
   "source": [
    "thread_cnts = np.arange(1, 5)\n",
    "timings_mean = []\n",
    "timings_stdev = []\n",
    "\n",
    "for i in thread_cnts:\n",
    "    mkl.set_num_threads(i)\n",
    "    timings = %timeit -o x @ y\n",
    "    timings_mean.append(timings.average)\n",
    "    timings_stdev.append(timings.stdev)"
   ]
  },
  {
   "cell_type": "code",
   "execution_count": 61,
   "metadata": {},
   "outputs": [
    {
     "data": {
      "image/png": "[encoded data removed]",
      "text/plain": [
       "<matplotlib.figure.Figure at 0x7f08ba55ac50>"
      ]
     },
     "metadata": {},
     "output_type": "display_data"
    }
   ],
   "source": [
    "fig, ax = plt.subplots()\n",
    "ax.errorbar(x=thread_cnts, y=timings_mean, yerr=timings_stdev, fmt='x');\n",
    "ax.bar(thread_cnts, timings_mean, yerr=timings_stdev)\n",
    "ax.set_xticks(thread_cnts)\n",
    "ax.set_xticklabels(thread_cnts)\n",
    "ax.set_xlabel('# cores')\n",
    "ax.set_ylabel('Runtime [ms]');"
   ]
  },
  {
   "cell_type": "markdown",
   "metadata": {},
   "source": [
    "NOT LINEAR SPEEDUP WHEN INCREASE CORES\n",
    "\n",
    "AHMDAHL'S LAW\n",
    "\n",
    "NEED TO DECIDE FOR YOURSELF WHETHER USING MORE CORES IS WORTH IT.\n",
    "\n",
    "RUN TESTS LIKE THE ABOVE WITH SUBSET OF PROGRAM TO SEE HOW THE PROBLEM SCALES TO MORE CORES"
   ]
  },
  {
   "cell_type": "markdown",
   "metadata": {},
   "source": [
    "---\n",
    "OTHER LIBRARIES CAN USE MKL TOO, EITHER BY DEPENDING ON NUMPY OR BY USING MKL DIRECTLY E.G. SCIPY"
   ]
  },
  {
   "cell_type": "code",
   "execution_count": 70,
   "metadata": {},
   "outputs": [
    {
     "name": "stdout",
     "output_type": "stream",
     "text": [
      "21.6 ms ± 664 µs per loop (mean ± std. dev. of 7 runs, 10 loops each)\n",
      "16.3 ms ± 416 µs per loop (mean ± std. dev. of 7 runs, 100 loops each)\n",
      "14.4 ms ± 285 µs per loop (mean ± std. dev. of 7 runs, 100 loops each)\n",
      "13.4 ms ± 249 µs per loop (mean ± std. dev. of 7 runs, 100 loops each)\n"
     ]
    }
   ],
   "source": [
    "z = np.random.random_sample((1000, 80))\n",
    "\n",
    "thread_cnts = np.arange(1, 5)\n",
    "timings_mean = []\n",
    "timings_stdev = []\n",
    "\n",
    "for i in thread_cnts:\n",
    "    mkl.set_num_threads(i)\n",
    "    timings = %timeit -o scipy.linalg.svd(z)\n",
    "    timings_mean.append(timings.average)\n",
    "    timings_stdev.append(timings.stdev)"
   ]
  },
  {
   "cell_type": "markdown",
   "metadata": {},
   "source": [
    "BEST TO USE UP TO AS MANY THREADS AS AVAILABLE CPU CORES: USE MORE THAN THAT AND SOME THREADS WILL BE FORCED TO SPEND SOME TIME WAITING, WHICH IS INEFFICIENT USE OF CORES"
   ]
  },
  {
   "cell_type": "code",
   "execution_count": 72,
   "metadata": {},
   "outputs": [
    {
     "name": "stdout",
     "output_type": "stream",
     "text": [
      "20.8 ms ± 268 µs per loop (mean ± std. dev. of 7 runs, 10 loops each)\n",
      "12.2 ms ± 92 µs per loop (mean ± std. dev. of 7 runs, 100 loops each)\n",
      "12.3 ms ± 291 µs per loop (mean ± std. dev. of 7 runs, 100 loops each)\n",
      "12.2 ms ± 140 µs per loop (mean ± std. dev. of 7 runs, 100 loops each)\n"
     ]
    }
   ],
   "source": [
    "z = np.random.random_sample((1000, 80))\n",
    "\n",
    "thread_cnts = np.arange(1, 16, 4)\n",
    "timings_mean = []\n",
    "timings_stdev = []\n",
    "\n",
    "for i in thread_cnts:\n",
    "    mkl.set_num_threads(i)\n",
    "    timings = %timeit -o scipy.linalg.svd(z)\n",
    "    timings_mean.append(timings.average)\n",
    "    timings_stdev.append(timings.stdev)"
   ]
  },
  {
   "cell_type": "markdown",
   "metadata": {},
   "source": [
    "WHY NOT USE ALWAYS USE AS MANY THREADS AS AVAILABLE CORES?  SOMETIMES MAY WANT TO LIMIT MKL THREADS SO CAN HAVE MULTIPLE PROCESSES RUNNING AT ONCE THAT DON'T INTERFERE WITH EACH OTHER. (DIAG)"
   ]
  },
  {
   "cell_type": "code",
   "execution_count": null,
   "metadata": {},
   "outputs": [],
   "source": []
  }
 ],
 "metadata": {
  "kernelspec": {
   "display_name": "Python 3",
   "language": "python",
   "name": "python3"
  },
  "language_info": {
   "codemirror_mode": {
    "name": "ipython",
    "version": 3
   },
   "file_extension": ".py",
   "mimetype": "text/x-python",
   "name": "python",
   "nbconvert_exporter": "python",
   "pygments_lexer": "ipython3",
   "version": "3.6.4"
  }
 },
 "nbformat": 4,
 "nbformat_minor": 2
}
