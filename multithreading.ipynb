{
 "cells": [
  {
   "cell_type": "markdown",
   "metadata": {},
   "source": [
    "# Flavours of parallelism plus multithreading using the MKL"
   ]
  },
  {
   "cell_type": "markdown",
   "metadata": {},
   "source": [
    "Covers: - multithreaded linear algebra with Numpy+MKL (easy win)\n",
    "\n",
    "* ?"
   ]
  },
  {
   "cell_type": "markdown",
   "metadata": {},
   "source": [
    "SPEEDING THINGS UP:\n",
    "- USED TO HAVE UPWARD TREND IN SPEED AT WHICH PROCESSORS COULD PROCESS INSTRUCTIONS ('CLOCK SPEED')\n",
    "- LITTLE IMPROVEMENT IN THIS 'CLOCK SPEED' IN RECENT YEARS.\n",
    "- SO HOW CAN WE MAKE OUR CODE GO FASTER?  CAN'T BUY SIGNIFICANTLY FASTER PROCESSOR FOR LOVE NOR MONEY.\n",
    "- ONE APPROACH IS TO DO MULTIPLE CHUNKS OF WORK AT ONCE.  \n",
    "  - DISTRIBUTE WORK BETWEEN PROCESSING CORES OF ONE OR MORE CPUS IN ONE MACHINE\n",
    "  - DISTRIBUTE WORK BETWEEN CPU CORES IN MULTIPLE MACHINES\n",
    "\n",
    "TYPES OF PARALLELISM \n",
    "- SHARED MEM VS DISTRIBUTED MEM (DIAGS)\n",
    "- SHARED MEM: SINGLE PROC, MULT THREADS, SINGLE GLOBAL ADDRESS SPACE.  ONE NODE.\n",
    "- DISTR MEM: MULT PROC, EACH HAS ONE (OR MORE?) THREADS, ADDRESS SPACE PER PROCESSOR, ONE OR MORE NODES.  PROCS COMMUNICATE BY PASSING MESSAGES WITHIN MACHINE / BETWEEN MACHINES.\n",
    "- PYTHON CAN ONLY EFFICIENTLY HANDLE DISTRIBUTED MEM PARALLELISATION AS TWO PYTHON THREADS CANNOT DO COMPUTATION AT THE SAME TIME DUE TO DESIGN OF PYTHON INTERPRETER. "
   ]
  },
  {
   "cell_type": "markdown",
   "metadata": {},
   "source": [
    "EASE OF PARALLELISING PROBLEMS\n",
    "- SIMPLEST IF PARALLEL TASKS ARE INDEPENDENT (NO COMMUNICATION BETWEEN TASKS WHILST RUNNING) - EMBARASSINGLY PARALLEL\n",
    "- THINGS GET MORE COMPLEX IF TASKS NEED TO COMMUNICATE.  NATURE OF COMPLEXITY DIFFERS FOR SM VS DM. \n",
    "\n",
    "\n",
    "\n",
    "FMA AND AVX2\n",
    "https://github.com/workhorsy/py-cpuinfo\n",
    "\n",
    "---\n"
   ]
  },
  {
   "cell_type": "markdown",
   "metadata": {},
   "source": [
    "NB APOLOGIES IF YOU DON'T DO MUCH WORK WITH ARRAYS/MATRICES - FOLLOWING MAY NOT BE OF INTEREST!"
   ]
  },
  {
   "cell_type": "markdown",
   "metadata": {},
   "source": [
    "## Using multiple threads to parallelise linear algebra operations"
   ]
  },
  {
   "cell_type": "markdown",
   "metadata": {},
   "source": [
    "Such operations are so important in computing that decades of research has gone into:\n",
    "\n",
    "1. Finding the most efficient algorithms for solving them;\n",
    "2. Developing the most efficient software implementations of those algorithms (usually written in [C][c] or [Fortran][fortran]);\n",
    "3. Adding features to processors to help accelerate these operations (**MORE ON THIS LATER**)\n",
    "\n",
    "For this reason you need a *very* good reason to write your own linear algebra functions.\n",
    "\n",
    "The standard way to do linear algebra in software is to use one of the several heavily optimised [software libraries][soft-lib] that implement\n",
    "these specifications:\n",
    "\n",
    "* [BLAS][blas] (*Basic Linear Algebra Subprograms*) - fundamental linear algebra functions;\n",
    "* [LAPACK][lapack] (*Linear Algebra Package*) - higher-level linear algebra functions that use BLAS functions.\n",
    "\n",
    "One of the most efficient BLAS/LAPACK implementations is provided by the Intel Math Kernel Library ([MKL][mkl]),\n",
    "which includes linear algebra functions that can make use of both **shared memory parallelism** (**EXPLAINED BY HERE**)\n",
    "and particular accelerating functionality built into certain Intel processors (see 3. above). (**COME BACK TO**)\n",
    "\n",
    "The 'native' way to use the MKL is to write C or Fortran code but\n",
    "for Python programmers simplest approach is to use a version of the [numpy][numpy] Python package built so\n",
    "it uses the MKL behind the scenes for linear algebra functionality\n",
    "(plus other functionality such as [fast Fourier transforms][fft]).\n",
    "\n",
    "Whether or not numpy comes with MKL support largely depends on how it was installed:\n",
    "\n",
    "* numpy installed using conda (e.g. with [Miniconda or Anaconda][mini-ana-conda]) has MKL support and installs the MKL as a dependency\n",
    "  (NB need to install from the default or Intel Python Distribution conda channel);\n",
    "* numpy installed using pip doesn't.\n",
    "\n",
    "**Let's see if we can use numpy and the MKL to execute a matrix multiplication operation in parallel using more than one CPU core.**\n",
    "\n",
    "First, although we are confident that our numpy has MKL support as we installed it with conda, let's double check.\n",
    "We'll also import some modules that we'll use later on this lesson.\n",
    "\n",
    "[blas]: https://en.wikipedia.org/wiki/Basic_Linear_Algebra_Subprograms\n",
    "[c]: https://en.wikipedia.org/wiki/C_(programming_language)\n",
    "[dot-prod]: https://en.wikipedia.org/wiki/Dot_product\n",
    "[fortran]: https://en.wikipedia.org/wiki/Fortran\n",
    "[lapack]: https://en.wikipedia.org/wiki/LAPACK\n",
    "[lin-alg]: https://en.wikipedia.org/wiki/Linear_algebra\n",
    "[matr-mult-par]: https://en.wikipedia.org/wiki/Matrix_multiplication_algorithm#Parallel_and_distributed_algorithms\n",
    "[matr-mult]: https://en.wikipedia.org/wiki/Matrix_multiplication\n",
    "[mkl]: https://software.intel.com/en-us/mkl\n",
    "[numpy]: http://www.numpy.org/\n",
    "[soft-lib]: https://en.wikipedia.org/wiki/Library_(computing)\n",
    "[svd]: https://en.wikipedia.org/wiki/Singular-value_decomposition\n",
    "[sys-lin-eq]: https://en.wikipedia.org/wiki/System_of_linear_equations\n",
    "[fft]: https://en.wikipedia.org/wiki/Fast_Fourier_transform\n",
    "[conda]: https://conda.io/\n",
    "[mini-ana-conda]: https://conda.io/docs/user-guide/install/download.html"
   ]
  },
  {
   "cell_type": "code",
   "execution_count": 32,
   "metadata": {},
   "outputs": [
    {
     "name": "stdout",
     "output_type": "stream",
     "text": [
      "blas_mkl_info:\n",
      "    libraries = ['mkl_rt', 'pthread']\n",
      "    library_dirs = ['/home/will/miniconda3/envs/hi-perf-ipynb/lib']\n",
      "    define_macros = [('SCIPY_MKL_H', None), ('HAVE_CBLAS', None)]\n",
      "    include_dirs = ['/home/will/miniconda3/envs/hi-perf-ipynb/include']\n",
      "blas_opt_info:\n",
      "    libraries = ['mkl_rt', 'pthread']\n",
      "    library_dirs = ['/home/will/miniconda3/envs/hi-perf-ipynb/lib']\n",
      "    define_macros = [('SCIPY_MKL_H', None), ('HAVE_CBLAS', None)]\n",
      "    include_dirs = ['/home/will/miniconda3/envs/hi-perf-ipynb/include']\n",
      "lapack_mkl_info:\n",
      "    libraries = ['mkl_rt', 'pthread']\n",
      "    library_dirs = ['/home/will/miniconda3/envs/hi-perf-ipynb/lib']\n",
      "    define_macros = [('SCIPY_MKL_H', None), ('HAVE_CBLAS', None)]\n",
      "    include_dirs = ['/home/will/miniconda3/envs/hi-perf-ipynb/include']\n",
      "lapack_opt_info:\n",
      "    libraries = ['mkl_rt', 'pthread']\n",
      "    library_dirs = ['/home/will/miniconda3/envs/hi-perf-ipynb/lib']\n",
      "    define_macros = [('SCIPY_MKL_H', None), ('HAVE_CBLAS', None)]\n",
      "    include_dirs = ['/home/will/miniconda3/envs/hi-perf-ipynb/include']\n"
     ]
    }
   ],
   "source": [
    "import os\n",
    "import numpy as np\n",
    "import scipy.linalg\n",
    "import matplotlib.pyplot as plt\n",
    "import mkl  # provided by mkl-service package\n",
    "\n",
    "plt.style.use('ggplot')\n",
    "%matplotlib inline\n",
    "\n",
    "np.show_config()"
   ]
  },
  {
   "cell_type": "markdown",
   "metadata": {},
   "source": [
    "If `mkl_rt` is listed as a `library` under `blas_opt_info` and `lapack_opt_info` then the MKL is used for BLAS and LAPACK functionality.\n",
    "Alternatively, If you installed numpy using pip then other BLAS/LAPACK library/libraries may be listed instead (e.g. `openblas`).\n",
    "\n",
    "---\n",
    "\n",
    "Next, let's create two square matrices:"
   ]
  },
  {
   "cell_type": "code",
   "execution_count": 33,
   "metadata": {},
   "outputs": [
    {
     "data": {
      "text/plain": [
       "array([[0.10852389, 0.78013701, 0.40242437, 0.33100978, 0.88375217],\n",
       "       [0.54986889, 0.12802015, 0.68657152, 0.33058848, 0.22549879],\n",
       "       [0.19439428, 0.3673249 , 0.23233952, 0.61094585, 0.31930015],\n",
       "       [0.61169245, 0.64461447, 0.36573259, 0.54289866, 0.19878048],\n",
       "       [0.52186317, 0.44607801, 0.26563295, 0.33378038, 0.05909986]])"
      ]
     },
     "execution_count": 33,
     "metadata": {},
     "output_type": "execute_result"
    }
   ],
   "source": [
    "x = np.random.random_sample((1000, 1000))\n",
    "y = np.random.random_sample((1000, 1000))\n",
    "x[:5, :5]"
   ]
  },
  {
   "cell_type": "markdown",
   "metadata": {},
   "source": [
    "We can then multiply these matrices using the new `@` operator (introduced in Python 3.5):"
   ]
  },
  {
   "cell_type": "code",
   "execution_count": 34,
   "metadata": {},
   "outputs": [
    {
     "data": {
      "text/plain": [
       "array([[255.05436702, 252.62449521, 250.03866232, ..., 254.56227871,\n",
       "        255.66873601, 240.72089114],\n",
       "       [244.67932133, 246.9223243 , 249.47304416, ..., 251.34659014,\n",
       "        247.52641989, 241.18552769],\n",
       "       [257.55237051, 255.78370817, 257.3642714 , ..., 262.9881522 ,\n",
       "        262.63040525, 248.62434195],\n",
       "       ...,\n",
       "       [252.31227987, 259.96374171, 249.10790623, ..., 260.45781556,\n",
       "        257.06440439, 241.54022881],\n",
       "       [242.42690323, 248.76081849, 244.26572835, ..., 253.67175188,\n",
       "        256.19602987, 241.49960286],\n",
       "       [244.35847696, 249.20929018, 242.00896396, ..., 252.25497593,\n",
       "        251.88953231, 236.51146983]])"
      ]
     },
     "execution_count": 34,
     "metadata": {},
     "output_type": "execute_result"
    }
   ],
   "source": [
    "x @ y"
   ]
  },
  {
   "cell_type": "markdown",
   "metadata": {},
   "source": [
    "Note that we haven't told numpy/MKL *how* to execute the matrix multiplication.\n",
    "By default the MKL intelligently and silently detects:\n",
    "\n",
    "* how many CPU cores are available in the machine;\n",
    "* how many threads (parallel strands of execution) it could *efficiently* use for executing operation(s) in parallel (where #threads <= #cores to ensure all threads can run at once); \n",
    "* whether the CPU(s) in the machine have features that optionally can be used to accelerate the operation(s). "
   ]
  },
  {
   "cell_type": "code",
   "execution_count": 35,
   "metadata": {},
   "outputs": [],
   "source": [
    "mkl.set_num_threads?"
   ]
  },
  {
   "cell_type": "markdown",
   "metadata": {},
   "source": [
    "Let's look at what happens to the runtime of the matrix multiplication if we explicitly restrict the number of threads the MKL can create/use to 1, 2, 3 then 4 threads:"
   ]
  },
  {
   "cell_type": "code",
   "execution_count": 36,
   "metadata": {},
   "outputs": [
    {
     "name": "stdout",
     "output_type": "stream",
     "text": [
      "40.8 ms ± 757 µs per loop (mean ± std. dev. of 7 runs, 10 loops each)\n",
      "22 ms ± 141 µs per loop (mean ± std. dev. of 7 runs, 10 loops each)\n",
      "16.9 ms ± 435 µs per loop (mean ± std. dev. of 7 runs, 100 loops each)\n",
      "13.6 ms ± 125 µs per loop (mean ± std. dev. of 7 runs, 100 loops each)\n"
     ]
    }
   ],
   "source": [
    "thread_cnts = np.arange(1, 5)\n",
    "timings_mean = []\n",
    "timings_stdev = []\n",
    "\n",
    "for i in thread_cnts:\n",
    "    mkl.set_num_threads(i)\n",
    "    timings = %timeit -o x @ y\n",
    "    timings_mean.append(timings.average)\n",
    "    timings_stdev.append(timings.stdev)"
   ]
  },
  {
   "cell_type": "markdown",
   "metadata": {},
   "source": [
    "Here we use the [timeit](http://ipython.readthedocs.io/en/stable/interactive/magics.html#magic-time) IPython 'magic' function to execute a Python statement multiple times and take the mean and standard deviation of those executions.\n",
    "\n",
    "Let's plot the results"
   ]
  },
  {
   "cell_type": "code",
   "execution_count": 49,
   "metadata": {},
   "outputs": [
    {
     "data": {
      "image/png": "[encoded data removed]",
      "text/plain": [
       "<matplotlib.figure.Figure at 0x7fc710d5c5c0>"
      ]
     },
     "metadata": {},
     "output_type": "display_data"
    }
   ],
   "source": [
    "fig, ax = plt.subplots()\n",
    "ax.errorbar(thread_cnts, timings_mean, yerr=timings_stdev, fmt='x')\n",
    "ax.set_xticks(thread_cnts)\n",
    "ax.set_xticklabels(thread_cnts)\n",
    "ax.set_xlabel('# cores')\n",
    "ax.set_ylabel('Runtime [ms]');\n",
    "ax.set_ylim(ymin=0);"
   ]
  },
  {
   "cell_type": "markdown",
   "metadata": {},
   "source": [
    "NOT LINEAR SPEEDUP WHEN INCREASE CORES\n",
    "\n",
    "AHMDAHL'S LAW\n",
    "\n",
    "NEED TO DECIDE FOR YOURSELF WHETHER USING MORE CORES IS WORTH IT.\n",
    "\n",
    "RUN TESTS LIKE THE ABOVE WITH SUBSET OF PROGRAM TO SEE HOW THE PROBLEM SCALES TO MORE CORES"
   ]
  },
  {
   "cell_type": "code",
   "execution_count": null,
   "metadata": {},
   "outputs": [],
   "source": []
  },
  {
   "cell_type": "markdown",
   "metadata": {},
   "source": [
    "---\n",
    "OTHER LIBRARIES CAN USE MKL TOO, EITHER BY DEPENDING ON NUMPY OR BY USING MKL DIRECTLY E.G. SCIPY"
   ]
  },
  {
   "cell_type": "code",
   "execution_count": 16,
   "metadata": {},
   "outputs": [
    {
     "name": "stdout",
     "output_type": "stream",
     "text": [
      "23.5 ms ± 2.29 ms per loop (mean ± std. dev. of 7 runs, 1 loop each)\n",
      "17.2 ms ± 669 µs per loop (mean ± std. dev. of 7 runs, 1 loop each)\n",
      "15.4 ms ± 1.36 ms per loop (mean ± std. dev. of 7 runs, 1 loop each)\n",
      "17.8 ms ± 1.56 ms per loop (mean ± std. dev. of 7 runs, 1 loop each)\n"
     ]
    }
   ],
   "source": [
    "z = np.random.random_sample((1000, 80))\n",
    "\n",
    "thread_cnts = np.arange(1, 5)\n",
    "timings_mean = []\n",
    "timings_stdev = []\n",
    "\n",
    "for i in thread_cnts:\n",
    "    mkl.set_num_threads(i)\n",
    "    timings = %timeit -n1  -o scipy.linalg.svd(z)\n",
    "    timings_mean.append(timings.average)\n",
    "    timings_stdev.append(timings.stdev)"
   ]
  },
  {
   "cell_type": "markdown",
   "metadata": {},
   "source": [
    "BEST TO USE UP TO AS MANY THREADS AS AVAILABLE CPU CORES: USE MORE THAN THAT AND SOME THREADS WILL BE FORCED TO SPEND SOME TIME WAITING, WHICH IS INEFFICIENT USE OF CORES"
   ]
  },
  {
   "cell_type": "code",
   "execution_count": 17,
   "metadata": {},
   "outputs": [
    {
     "name": "stdout",
     "output_type": "stream",
     "text": [
      "22.3 ms ± 2.48 ms per loop (mean ± std. dev. of 7 runs, 1 loop each)\n",
      "13 ms ± 1.6 ms per loop (mean ± std. dev. of 7 runs, 1 loop each)\n",
      "11.9 ms ± 66.4 µs per loop (mean ± std. dev. of 7 runs, 1 loop each)\n",
      "14.5 ms ± 2.9 ms per loop (mean ± std. dev. of 7 runs, 1 loop each)\n"
     ]
    }
   ],
   "source": [
    "z = np.random.random_sample((1000, 80))\n",
    "\n",
    "thread_cnts = np.arange(1, 16, 4)\n",
    "timings_mean = []\n",
    "timings_stdev = []\n",
    "\n",
    "for i in thread_cnts:\n",
    "    mkl.set_num_threads(i)\n",
    "    timings = %timeit -n1 -o scipy.linalg.svd(z)\n",
    "    timings_mean.append(timings.average)\n",
    "    timings_stdev.append(timings.stdev)"
   ]
  },
  {
   "cell_type": "markdown",
   "metadata": {},
   "source": [
    "WHY NOT USE ALWAYS USE AS MANY THREADS AS AVAILABLE CORES?  SOMETIMES MAY WANT TO LIMIT MKL THREADS SO CAN HAVE MULTIPLE PROCESSES RUNNING AT ONCE THAT DON'T INTERFERE WITH EACH OTHER. (DIAG)"
   ]
  },
  {
   "cell_type": "code",
   "execution_count": null,
   "metadata": {},
   "outputs": [],
   "source": []
  }
 ],
 "metadata": {
  "kernelspec": {
   "display_name": "Python 3",
   "language": "python",
   "name": "python3"
  },
  "language_info": {
   "codemirror_mode": {
    "name": "ipython",
    "version": 3
   },
   "file_extension": ".py",
   "mimetype": "text/x-python",
   "name": "python",
   "nbconvert_exporter": "python",
   "pygments_lexer": "ipython3",
   "version": "3.6.4"
  }
 },
 "nbformat": 4,
 "nbformat_minor": 2
}
