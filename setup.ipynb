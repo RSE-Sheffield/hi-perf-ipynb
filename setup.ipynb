{
 "cells": [
  {
   "cell_type": "markdown",
   "metadata": {},
   "source": [
    "# Setup"
   ]
  },
  {
   "cell_type": "markdown",
   "metadata": {},
   "source": [
    "Before we start running any code, we first need to\n",
    "\n",
    "1. **Resources and Jupyter**: Gain access to the hardware resources we need to explore the various types of parallelism we're going to focus on.  Jupyter needs to be available in this environment as all tutorials are presented as runnable Jupyter Notebooks;\n",
    "2. **Environment**: Create a 'conda' (Python) environment containing all the Python packages we need for these tutorials;\n",
    "3. Ensure the environment \n",
    "\n",
    "Covers: - JupyterHub + conda + git quickstart (brief)\n",
    "\n",
    "* Set up your environment\n",
    "http://docs.hpc.shef.ac.uk/en/latest/hpc/jupyterhub.html\n"
   ]
  },
  {
   "cell_type": "code",
   "execution_count": null,
   "metadata": {},
   "outputs": [],
   "source": []
  }
 ],
 "metadata": {
  "kernelspec": {
   "display_name": "Python 3",
   "language": "python",
   "name": "python3"
  },
  "language_info": {
   "codemirror_mode": {
    "name": "ipython",
    "version": 3
   },
   "file_extension": ".py",
   "mimetype": "text/x-python",
   "name": "python",
   "nbconvert_exporter": "python",
   "pygments_lexer": "ipython3",
   "version": "3.6.4"
  }
 },
 "nbformat": 4,
 "nbformat_minor": 2
}
